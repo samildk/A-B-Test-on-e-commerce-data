{
  "nbformat": 4,
  "nbformat_minor": 0,
  "metadata": {
    "colab": {
      "provenance": []
    },
    "kernelspec": {
      "name": "python3",
      "display_name": "Python 3"
    },
    "language_info": {
      "name": "python"
    }
  },
  "cells": [
    {
      "cell_type": "code",
      "source": [
        "%cd drive/MyDrive/Data"
      ],
      "metadata": {
        "colab": {
          "base_uri": "https://localhost:8080/"
        },
        "id": "wKh4qEYQEHdR",
        "outputId": "acc00b69-8a43-4316-c146-87d7a31ab98d"
      },
      "execution_count": 1,
      "outputs": [
        {
          "output_type": "stream",
          "name": "stdout",
          "text": [
            "/content/drive/MyDrive/Data\n"
          ]
        }
      ]
    },
    {
      "cell_type": "code",
      "source": [
        "!ls"
      ],
      "metadata": {
        "colab": {
          "base_uri": "https://localhost:8080/"
        },
        "id": "MX54REpxEslQ",
        "outputId": "5acba6a5-6e39-4c3b-d12c-cfaf67512f60"
      },
      "execution_count": 2,
      "outputs": [
        {
          "output_type": "stream",
          "name": "stdout",
          "text": [
            "ExperimentUsers.csv  purchase.csv\n"
          ]
        }
      ]
    },
    {
      "cell_type": "code",
      "source": [
        "#importing related libraries\n",
        "import pandas as pd\n",
        "import numpy as np\n",
        "import matplotlib.pyplot as plt\n",
        "import scipy as sci\n",
        "import seaborn as sns\n",
        "from sklearn.preprocessing import MinMaxScaler\n"
      ],
      "metadata": {
        "id": "fXou7xzwEsh5"
      },
      "execution_count": 3,
      "outputs": []
    },
    {
      "cell_type": "markdown",
      "source": [
        "#Loading Datasets and preprocessing"
      ],
      "metadata": {
        "id": "9jeN0KJMGXaD"
      }
    },
    {
      "cell_type": "code",
      "source": [
        "#loading csv fils as a dataframe\n",
        "df_users = pd.read_csv(\"ExperimentUsers.csv\")\n",
        "df_pur = pd.read_csv(\"purchase.csv\")"
      ],
      "metadata": {
        "id": "Zoq2IiYHFDcZ"
      },
      "execution_count": 4,
      "outputs": []
    },
    {
      "cell_type": "markdown",
      "source": [
        "##Users"
      ],
      "metadata": {
        "id": "AFSUOOACGW1W"
      }
    },
    {
      "cell_type": "code",
      "source": [
        "#droping unnessesary and meaningless columns\n",
        "df_users.drop('Unnamed: 0',axis=1 , inplace= True)\n",
        "df_users.tail()"
      ],
      "metadata": {
        "colab": {
          "base_uri": "https://localhost:8080/",
          "height": 206
        },
        "id": "bj1A3cFpFMNF",
        "outputId": "c7794146-aa19-4a0b-cda1-9d03bc85af39"
      },
      "execution_count": 5,
      "outputs": [
        {
          "output_type": "execute_result",
          "data": {
            "text/plain": [
              "       user_id group_name\n",
              "54180  9212735     GroupA\n",
              "54181  9212736     GroupB\n",
              "54182  9212741     GroupA\n",
              "54183  9212750     GroupB\n",
              "54184  9212756     GroupB"
            ],
            "text/html": [
              "\n",
              "  <div id=\"df-d066e66f-fb89-491c-a099-14733df212ab\" class=\"colab-df-container\">\n",
              "    <div>\n",
              "<style scoped>\n",
              "    .dataframe tbody tr th:only-of-type {\n",
              "        vertical-align: middle;\n",
              "    }\n",
              "\n",
              "    .dataframe tbody tr th {\n",
              "        vertical-align: top;\n",
              "    }\n",
              "\n",
              "    .dataframe thead th {\n",
              "        text-align: right;\n",
              "    }\n",
              "</style>\n",
              "<table border=\"1\" class=\"dataframe\">\n",
              "  <thead>\n",
              "    <tr style=\"text-align: right;\">\n",
              "      <th></th>\n",
              "      <th>user_id</th>\n",
              "      <th>group_name</th>\n",
              "    </tr>\n",
              "  </thead>\n",
              "  <tbody>\n",
              "    <tr>\n",
              "      <th>54180</th>\n",
              "      <td>9212735</td>\n",
              "      <td>GroupA</td>\n",
              "    </tr>\n",
              "    <tr>\n",
              "      <th>54181</th>\n",
              "      <td>9212736</td>\n",
              "      <td>GroupB</td>\n",
              "    </tr>\n",
              "    <tr>\n",
              "      <th>54182</th>\n",
              "      <td>9212741</td>\n",
              "      <td>GroupA</td>\n",
              "    </tr>\n",
              "    <tr>\n",
              "      <th>54183</th>\n",
              "      <td>9212750</td>\n",
              "      <td>GroupB</td>\n",
              "    </tr>\n",
              "    <tr>\n",
              "      <th>54184</th>\n",
              "      <td>9212756</td>\n",
              "      <td>GroupB</td>\n",
              "    </tr>\n",
              "  </tbody>\n",
              "</table>\n",
              "</div>\n",
              "    <div class=\"colab-df-buttons\">\n",
              "\n",
              "  <div class=\"colab-df-container\">\n",
              "    <button class=\"colab-df-convert\" onclick=\"convertToInteractive('df-d066e66f-fb89-491c-a099-14733df212ab')\"\n",
              "            title=\"Convert this dataframe to an interactive table.\"\n",
              "            style=\"display:none;\">\n",
              "\n",
              "  <svg xmlns=\"http://www.w3.org/2000/svg\" height=\"24px\" viewBox=\"0 -960 960 960\">\n",
              "    <path d=\"M120-120v-720h720v720H120Zm60-500h600v-160H180v160Zm220 220h160v-160H400v160Zm0 220h160v-160H400v160ZM180-400h160v-160H180v160Zm440 0h160v-160H620v160ZM180-180h160v-160H180v160Zm440 0h160v-160H620v160Z\"/>\n",
              "  </svg>\n",
              "    </button>\n",
              "\n",
              "  <style>\n",
              "    .colab-df-container {\n",
              "      display:flex;\n",
              "      gap: 12px;\n",
              "    }\n",
              "\n",
              "    .colab-df-convert {\n",
              "      background-color: #E8F0FE;\n",
              "      border: none;\n",
              "      border-radius: 50%;\n",
              "      cursor: pointer;\n",
              "      display: none;\n",
              "      fill: #1967D2;\n",
              "      height: 32px;\n",
              "      padding: 0 0 0 0;\n",
              "      width: 32px;\n",
              "    }\n",
              "\n",
              "    .colab-df-convert:hover {\n",
              "      background-color: #E2EBFA;\n",
              "      box-shadow: 0px 1px 2px rgba(60, 64, 67, 0.3), 0px 1px 3px 1px rgba(60, 64, 67, 0.15);\n",
              "      fill: #174EA6;\n",
              "    }\n",
              "\n",
              "    .colab-df-buttons div {\n",
              "      margin-bottom: 4px;\n",
              "    }\n",
              "\n",
              "    [theme=dark] .colab-df-convert {\n",
              "      background-color: #3B4455;\n",
              "      fill: #D2E3FC;\n",
              "    }\n",
              "\n",
              "    [theme=dark] .colab-df-convert:hover {\n",
              "      background-color: #434B5C;\n",
              "      box-shadow: 0px 1px 3px 1px rgba(0, 0, 0, 0.15);\n",
              "      filter: drop-shadow(0px 1px 2px rgba(0, 0, 0, 0.3));\n",
              "      fill: #FFFFFF;\n",
              "    }\n",
              "  </style>\n",
              "\n",
              "    <script>\n",
              "      const buttonEl =\n",
              "        document.querySelector('#df-d066e66f-fb89-491c-a099-14733df212ab button.colab-df-convert');\n",
              "      buttonEl.style.display =\n",
              "        google.colab.kernel.accessAllowed ? 'block' : 'none';\n",
              "\n",
              "      async function convertToInteractive(key) {\n",
              "        const element = document.querySelector('#df-d066e66f-fb89-491c-a099-14733df212ab');\n",
              "        const dataTable =\n",
              "          await google.colab.kernel.invokeFunction('convertToInteractive',\n",
              "                                                    [key], {});\n",
              "        if (!dataTable) return;\n",
              "\n",
              "        const docLinkHtml = 'Like what you see? Visit the ' +\n",
              "          '<a target=\"_blank\" href=https://colab.research.google.com/notebooks/data_table.ipynb>data table notebook</a>'\n",
              "          + ' to learn more about interactive tables.';\n",
              "        element.innerHTML = '';\n",
              "        dataTable['output_type'] = 'display_data';\n",
              "        await google.colab.output.renderOutput(dataTable, element);\n",
              "        const docLink = document.createElement('div');\n",
              "        docLink.innerHTML = docLinkHtml;\n",
              "        element.appendChild(docLink);\n",
              "      }\n",
              "    </script>\n",
              "  </div>\n",
              "\n",
              "\n",
              "<div id=\"df-f4750600-3e29-42c8-bb66-7eb43d52807e\">\n",
              "  <button class=\"colab-df-quickchart\" onclick=\"quickchart('df-f4750600-3e29-42c8-bb66-7eb43d52807e')\"\n",
              "            title=\"Suggest charts\"\n",
              "            style=\"display:none;\">\n",
              "\n",
              "<svg xmlns=\"http://www.w3.org/2000/svg\" height=\"24px\"viewBox=\"0 0 24 24\"\n",
              "     width=\"24px\">\n",
              "    <g>\n",
              "        <path d=\"M19 3H5c-1.1 0-2 .9-2 2v14c0 1.1.9 2 2 2h14c1.1 0 2-.9 2-2V5c0-1.1-.9-2-2-2zM9 17H7v-7h2v7zm4 0h-2V7h2v10zm4 0h-2v-4h2v4z\"/>\n",
              "    </g>\n",
              "</svg>\n",
              "  </button>\n",
              "\n",
              "<style>\n",
              "  .colab-df-quickchart {\n",
              "      --bg-color: #E8F0FE;\n",
              "      --fill-color: #1967D2;\n",
              "      --hover-bg-color: #E2EBFA;\n",
              "      --hover-fill-color: #174EA6;\n",
              "      --disabled-fill-color: #AAA;\n",
              "      --disabled-bg-color: #DDD;\n",
              "  }\n",
              "\n",
              "  [theme=dark] .colab-df-quickchart {\n",
              "      --bg-color: #3B4455;\n",
              "      --fill-color: #D2E3FC;\n",
              "      --hover-bg-color: #434B5C;\n",
              "      --hover-fill-color: #FFFFFF;\n",
              "      --disabled-bg-color: #3B4455;\n",
              "      --disabled-fill-color: #666;\n",
              "  }\n",
              "\n",
              "  .colab-df-quickchart {\n",
              "    background-color: var(--bg-color);\n",
              "    border: none;\n",
              "    border-radius: 50%;\n",
              "    cursor: pointer;\n",
              "    display: none;\n",
              "    fill: var(--fill-color);\n",
              "    height: 32px;\n",
              "    padding: 0;\n",
              "    width: 32px;\n",
              "  }\n",
              "\n",
              "  .colab-df-quickchart:hover {\n",
              "    background-color: var(--hover-bg-color);\n",
              "    box-shadow: 0 1px 2px rgba(60, 64, 67, 0.3), 0 1px 3px 1px rgba(60, 64, 67, 0.15);\n",
              "    fill: var(--button-hover-fill-color);\n",
              "  }\n",
              "\n",
              "  .colab-df-quickchart-complete:disabled,\n",
              "  .colab-df-quickchart-complete:disabled:hover {\n",
              "    background-color: var(--disabled-bg-color);\n",
              "    fill: var(--disabled-fill-color);\n",
              "    box-shadow: none;\n",
              "  }\n",
              "\n",
              "  .colab-df-spinner {\n",
              "    border: 2px solid var(--fill-color);\n",
              "    border-color: transparent;\n",
              "    border-bottom-color: var(--fill-color);\n",
              "    animation:\n",
              "      spin 1s steps(1) infinite;\n",
              "  }\n",
              "\n",
              "  @keyframes spin {\n",
              "    0% {\n",
              "      border-color: transparent;\n",
              "      border-bottom-color: var(--fill-color);\n",
              "      border-left-color: var(--fill-color);\n",
              "    }\n",
              "    20% {\n",
              "      border-color: transparent;\n",
              "      border-left-color: var(--fill-color);\n",
              "      border-top-color: var(--fill-color);\n",
              "    }\n",
              "    30% {\n",
              "      border-color: transparent;\n",
              "      border-left-color: var(--fill-color);\n",
              "      border-top-color: var(--fill-color);\n",
              "      border-right-color: var(--fill-color);\n",
              "    }\n",
              "    40% {\n",
              "      border-color: transparent;\n",
              "      border-right-color: var(--fill-color);\n",
              "      border-top-color: var(--fill-color);\n",
              "    }\n",
              "    60% {\n",
              "      border-color: transparent;\n",
              "      border-right-color: var(--fill-color);\n",
              "    }\n",
              "    80% {\n",
              "      border-color: transparent;\n",
              "      border-right-color: var(--fill-color);\n",
              "      border-bottom-color: var(--fill-color);\n",
              "    }\n",
              "    90% {\n",
              "      border-color: transparent;\n",
              "      border-bottom-color: var(--fill-color);\n",
              "    }\n",
              "  }\n",
              "</style>\n",
              "\n",
              "  <script>\n",
              "    async function quickchart(key) {\n",
              "      const quickchartButtonEl =\n",
              "        document.querySelector('#' + key + ' button');\n",
              "      quickchartButtonEl.disabled = true;  // To prevent multiple clicks.\n",
              "      quickchartButtonEl.classList.add('colab-df-spinner');\n",
              "      try {\n",
              "        const charts = await google.colab.kernel.invokeFunction(\n",
              "            'suggestCharts', [key], {});\n",
              "      } catch (error) {\n",
              "        console.error('Error during call to suggestCharts:', error);\n",
              "      }\n",
              "      quickchartButtonEl.classList.remove('colab-df-spinner');\n",
              "      quickchartButtonEl.classList.add('colab-df-quickchart-complete');\n",
              "    }\n",
              "    (() => {\n",
              "      let quickchartButtonEl =\n",
              "        document.querySelector('#df-f4750600-3e29-42c8-bb66-7eb43d52807e button');\n",
              "      quickchartButtonEl.style.display =\n",
              "        google.colab.kernel.accessAllowed ? 'block' : 'none';\n",
              "    })();\n",
              "  </script>\n",
              "</div>\n",
              "\n",
              "    </div>\n",
              "  </div>\n"
            ],
            "application/vnd.google.colaboratory.intrinsic+json": {
              "type": "dataframe",
              "summary": "{\n  \"name\": \"df_users\",\n  \"rows\": 5,\n  \"fields\": [\n    {\n      \"column\": \"user_id\",\n      \"properties\": {\n        \"dtype\": \"number\",\n        \"std\": 9,\n        \"min\": 9212735,\n        \"max\": 9212756,\n        \"num_unique_values\": 5,\n        \"samples\": [\n          9212736,\n          9212756,\n          9212741\n        ],\n        \"semantic_type\": \"\",\n        \"description\": \"\"\n      }\n    },\n    {\n      \"column\": \"group_name\",\n      \"properties\": {\n        \"dtype\": \"category\",\n        \"num_unique_values\": 2,\n        \"samples\": [\n          \"GroupB\",\n          \"GroupA\"\n        ],\n        \"semantic_type\": \"\",\n        \"description\": \"\"\n      }\n    }\n  ]\n}"
            }
          },
          "metadata": {},
          "execution_count": 5
        }
      ]
    },
    {
      "cell_type": "code",
      "source": [
        "#extracting basic information about users' dataframe\n",
        "df_users.info()"
      ],
      "metadata": {
        "colab": {
          "base_uri": "https://localhost:8080/"
        },
        "id": "ZHWAAsncGS2U",
        "outputId": "a1d1cc30-b5bb-414f-b4b4-2dc63b113162"
      },
      "execution_count": 6,
      "outputs": [
        {
          "output_type": "stream",
          "name": "stdout",
          "text": [
            "<class 'pandas.core.frame.DataFrame'>\n",
            "RangeIndex: 54185 entries, 0 to 54184\n",
            "Data columns (total 2 columns):\n",
            " #   Column      Non-Null Count  Dtype \n",
            "---  ------      --------------  ----- \n",
            " 0   user_id     54185 non-null  int64 \n",
            " 1   group_name  54185 non-null  object\n",
            "dtypes: int64(1), object(1)\n",
            "memory usage: 846.8+ KB\n"
          ]
        }
      ]
    },
    {
      "cell_type": "markdown",
      "source": [
        "##Purchase"
      ],
      "metadata": {
        "id": "P1DQMkx4GhVX"
      }
    },
    {
      "cell_type": "code",
      "source": [
        "#dropung meaningless columns\n",
        "df_pur.drop(\"Unnamed: 0\" , axis = 1 , inplace=True)\n",
        "df_pur.tail()"
      ],
      "metadata": {
        "colab": {
          "base_uri": "https://localhost:8080/",
          "height": 206
        },
        "id": "i3GMlDyTFWPg",
        "outputId": "5ed81a52-f9d9-4b27-a6a7-9e135abfefca"
      },
      "execution_count": 7,
      "outputs": [
        {
          "output_type": "execute_result",
          "data": {
            "text/plain": [
              "      user_id                        added_time  price currency_iso\n",
              "1102  9185878  2024-05-29 17:40:47.241938+00:00  238.0          IRR\n",
              "1103  9200495  2024-05-29 20:46:24.718186+00:00  258.0          IRR\n",
              "1104  9200495  2024-05-29 20:55:52.290650+00:00  798.0          IRR\n",
              "1105  9140661  2024-05-22 22:17:53.416886+00:00   15.0          IRR\n",
              "1106  9184960  2024-05-23 17:12:43.915720+00:00   71.8          IRR"
            ],
            "text/html": [
              "\n",
              "  <div id=\"df-eba9a9c6-967b-4725-a9df-d6f96341c88d\" class=\"colab-df-container\">\n",
              "    <div>\n",
              "<style scoped>\n",
              "    .dataframe tbody tr th:only-of-type {\n",
              "        vertical-align: middle;\n",
              "    }\n",
              "\n",
              "    .dataframe tbody tr th {\n",
              "        vertical-align: top;\n",
              "    }\n",
              "\n",
              "    .dataframe thead th {\n",
              "        text-align: right;\n",
              "    }\n",
              "</style>\n",
              "<table border=\"1\" class=\"dataframe\">\n",
              "  <thead>\n",
              "    <tr style=\"text-align: right;\">\n",
              "      <th></th>\n",
              "      <th>user_id</th>\n",
              "      <th>added_time</th>\n",
              "      <th>price</th>\n",
              "      <th>currency_iso</th>\n",
              "    </tr>\n",
              "  </thead>\n",
              "  <tbody>\n",
              "    <tr>\n",
              "      <th>1102</th>\n",
              "      <td>9185878</td>\n",
              "      <td>2024-05-29 17:40:47.241938+00:00</td>\n",
              "      <td>238.0</td>\n",
              "      <td>IRR</td>\n",
              "    </tr>\n",
              "    <tr>\n",
              "      <th>1103</th>\n",
              "      <td>9200495</td>\n",
              "      <td>2024-05-29 20:46:24.718186+00:00</td>\n",
              "      <td>258.0</td>\n",
              "      <td>IRR</td>\n",
              "    </tr>\n",
              "    <tr>\n",
              "      <th>1104</th>\n",
              "      <td>9200495</td>\n",
              "      <td>2024-05-29 20:55:52.290650+00:00</td>\n",
              "      <td>798.0</td>\n",
              "      <td>IRR</td>\n",
              "    </tr>\n",
              "    <tr>\n",
              "      <th>1105</th>\n",
              "      <td>9140661</td>\n",
              "      <td>2024-05-22 22:17:53.416886+00:00</td>\n",
              "      <td>15.0</td>\n",
              "      <td>IRR</td>\n",
              "    </tr>\n",
              "    <tr>\n",
              "      <th>1106</th>\n",
              "      <td>9184960</td>\n",
              "      <td>2024-05-23 17:12:43.915720+00:00</td>\n",
              "      <td>71.8</td>\n",
              "      <td>IRR</td>\n",
              "    </tr>\n",
              "  </tbody>\n",
              "</table>\n",
              "</div>\n",
              "    <div class=\"colab-df-buttons\">\n",
              "\n",
              "  <div class=\"colab-df-container\">\n",
              "    <button class=\"colab-df-convert\" onclick=\"convertToInteractive('df-eba9a9c6-967b-4725-a9df-d6f96341c88d')\"\n",
              "            title=\"Convert this dataframe to an interactive table.\"\n",
              "            style=\"display:none;\">\n",
              "\n",
              "  <svg xmlns=\"http://www.w3.org/2000/svg\" height=\"24px\" viewBox=\"0 -960 960 960\">\n",
              "    <path d=\"M120-120v-720h720v720H120Zm60-500h600v-160H180v160Zm220 220h160v-160H400v160Zm0 220h160v-160H400v160ZM180-400h160v-160H180v160Zm440 0h160v-160H620v160ZM180-180h160v-160H180v160Zm440 0h160v-160H620v160Z\"/>\n",
              "  </svg>\n",
              "    </button>\n",
              "\n",
              "  <style>\n",
              "    .colab-df-container {\n",
              "      display:flex;\n",
              "      gap: 12px;\n",
              "    }\n",
              "\n",
              "    .colab-df-convert {\n",
              "      background-color: #E8F0FE;\n",
              "      border: none;\n",
              "      border-radius: 50%;\n",
              "      cursor: pointer;\n",
              "      display: none;\n",
              "      fill: #1967D2;\n",
              "      height: 32px;\n",
              "      padding: 0 0 0 0;\n",
              "      width: 32px;\n",
              "    }\n",
              "\n",
              "    .colab-df-convert:hover {\n",
              "      background-color: #E2EBFA;\n",
              "      box-shadow: 0px 1px 2px rgba(60, 64, 67, 0.3), 0px 1px 3px 1px rgba(60, 64, 67, 0.15);\n",
              "      fill: #174EA6;\n",
              "    }\n",
              "\n",
              "    .colab-df-buttons div {\n",
              "      margin-bottom: 4px;\n",
              "    }\n",
              "\n",
              "    [theme=dark] .colab-df-convert {\n",
              "      background-color: #3B4455;\n",
              "      fill: #D2E3FC;\n",
              "    }\n",
              "\n",
              "    [theme=dark] .colab-df-convert:hover {\n",
              "      background-color: #434B5C;\n",
              "      box-shadow: 0px 1px 3px 1px rgba(0, 0, 0, 0.15);\n",
              "      filter: drop-shadow(0px 1px 2px rgba(0, 0, 0, 0.3));\n",
              "      fill: #FFFFFF;\n",
              "    }\n",
              "  </style>\n",
              "\n",
              "    <script>\n",
              "      const buttonEl =\n",
              "        document.querySelector('#df-eba9a9c6-967b-4725-a9df-d6f96341c88d button.colab-df-convert');\n",
              "      buttonEl.style.display =\n",
              "        google.colab.kernel.accessAllowed ? 'block' : 'none';\n",
              "\n",
              "      async function convertToInteractive(key) {\n",
              "        const element = document.querySelector('#df-eba9a9c6-967b-4725-a9df-d6f96341c88d');\n",
              "        const dataTable =\n",
              "          await google.colab.kernel.invokeFunction('convertToInteractive',\n",
              "                                                    [key], {});\n",
              "        if (!dataTable) return;\n",
              "\n",
              "        const docLinkHtml = 'Like what you see? Visit the ' +\n",
              "          '<a target=\"_blank\" href=https://colab.research.google.com/notebooks/data_table.ipynb>data table notebook</a>'\n",
              "          + ' to learn more about interactive tables.';\n",
              "        element.innerHTML = '';\n",
              "        dataTable['output_type'] = 'display_data';\n",
              "        await google.colab.output.renderOutput(dataTable, element);\n",
              "        const docLink = document.createElement('div');\n",
              "        docLink.innerHTML = docLinkHtml;\n",
              "        element.appendChild(docLink);\n",
              "      }\n",
              "    </script>\n",
              "  </div>\n",
              "\n",
              "\n",
              "<div id=\"df-0a3ede3b-1ebf-4c7d-89ff-609bbb774096\">\n",
              "  <button class=\"colab-df-quickchart\" onclick=\"quickchart('df-0a3ede3b-1ebf-4c7d-89ff-609bbb774096')\"\n",
              "            title=\"Suggest charts\"\n",
              "            style=\"display:none;\">\n",
              "\n",
              "<svg xmlns=\"http://www.w3.org/2000/svg\" height=\"24px\"viewBox=\"0 0 24 24\"\n",
              "     width=\"24px\">\n",
              "    <g>\n",
              "        <path d=\"M19 3H5c-1.1 0-2 .9-2 2v14c0 1.1.9 2 2 2h14c1.1 0 2-.9 2-2V5c0-1.1-.9-2-2-2zM9 17H7v-7h2v7zm4 0h-2V7h2v10zm4 0h-2v-4h2v4z\"/>\n",
              "    </g>\n",
              "</svg>\n",
              "  </button>\n",
              "\n",
              "<style>\n",
              "  .colab-df-quickchart {\n",
              "      --bg-color: #E8F0FE;\n",
              "      --fill-color: #1967D2;\n",
              "      --hover-bg-color: #E2EBFA;\n",
              "      --hover-fill-color: #174EA6;\n",
              "      --disabled-fill-color: #AAA;\n",
              "      --disabled-bg-color: #DDD;\n",
              "  }\n",
              "\n",
              "  [theme=dark] .colab-df-quickchart {\n",
              "      --bg-color: #3B4455;\n",
              "      --fill-color: #D2E3FC;\n",
              "      --hover-bg-color: #434B5C;\n",
              "      --hover-fill-color: #FFFFFF;\n",
              "      --disabled-bg-color: #3B4455;\n",
              "      --disabled-fill-color: #666;\n",
              "  }\n",
              "\n",
              "  .colab-df-quickchart {\n",
              "    background-color: var(--bg-color);\n",
              "    border: none;\n",
              "    border-radius: 50%;\n",
              "    cursor: pointer;\n",
              "    display: none;\n",
              "    fill: var(--fill-color);\n",
              "    height: 32px;\n",
              "    padding: 0;\n",
              "    width: 32px;\n",
              "  }\n",
              "\n",
              "  .colab-df-quickchart:hover {\n",
              "    background-color: var(--hover-bg-color);\n",
              "    box-shadow: 0 1px 2px rgba(60, 64, 67, 0.3), 0 1px 3px 1px rgba(60, 64, 67, 0.15);\n",
              "    fill: var(--button-hover-fill-color);\n",
              "  }\n",
              "\n",
              "  .colab-df-quickchart-complete:disabled,\n",
              "  .colab-df-quickchart-complete:disabled:hover {\n",
              "    background-color: var(--disabled-bg-color);\n",
              "    fill: var(--disabled-fill-color);\n",
              "    box-shadow: none;\n",
              "  }\n",
              "\n",
              "  .colab-df-spinner {\n",
              "    border: 2px solid var(--fill-color);\n",
              "    border-color: transparent;\n",
              "    border-bottom-color: var(--fill-color);\n",
              "    animation:\n",
              "      spin 1s steps(1) infinite;\n",
              "  }\n",
              "\n",
              "  @keyframes spin {\n",
              "    0% {\n",
              "      border-color: transparent;\n",
              "      border-bottom-color: var(--fill-color);\n",
              "      border-left-color: var(--fill-color);\n",
              "    }\n",
              "    20% {\n",
              "      border-color: transparent;\n",
              "      border-left-color: var(--fill-color);\n",
              "      border-top-color: var(--fill-color);\n",
              "    }\n",
              "    30% {\n",
              "      border-color: transparent;\n",
              "      border-left-color: var(--fill-color);\n",
              "      border-top-color: var(--fill-color);\n",
              "      border-right-color: var(--fill-color);\n",
              "    }\n",
              "    40% {\n",
              "      border-color: transparent;\n",
              "      border-right-color: var(--fill-color);\n",
              "      border-top-color: var(--fill-color);\n",
              "    }\n",
              "    60% {\n",
              "      border-color: transparent;\n",
              "      border-right-color: var(--fill-color);\n",
              "    }\n",
              "    80% {\n",
              "      border-color: transparent;\n",
              "      border-right-color: var(--fill-color);\n",
              "      border-bottom-color: var(--fill-color);\n",
              "    }\n",
              "    90% {\n",
              "      border-color: transparent;\n",
              "      border-bottom-color: var(--fill-color);\n",
              "    }\n",
              "  }\n",
              "</style>\n",
              "\n",
              "  <script>\n",
              "    async function quickchart(key) {\n",
              "      const quickchartButtonEl =\n",
              "        document.querySelector('#' + key + ' button');\n",
              "      quickchartButtonEl.disabled = true;  // To prevent multiple clicks.\n",
              "      quickchartButtonEl.classList.add('colab-df-spinner');\n",
              "      try {\n",
              "        const charts = await google.colab.kernel.invokeFunction(\n",
              "            'suggestCharts', [key], {});\n",
              "      } catch (error) {\n",
              "        console.error('Error during call to suggestCharts:', error);\n",
              "      }\n",
              "      quickchartButtonEl.classList.remove('colab-df-spinner');\n",
              "      quickchartButtonEl.classList.add('colab-df-quickchart-complete');\n",
              "    }\n",
              "    (() => {\n",
              "      let quickchartButtonEl =\n",
              "        document.querySelector('#df-0a3ede3b-1ebf-4c7d-89ff-609bbb774096 button');\n",
              "      quickchartButtonEl.style.display =\n",
              "        google.colab.kernel.accessAllowed ? 'block' : 'none';\n",
              "    })();\n",
              "  </script>\n",
              "</div>\n",
              "\n",
              "    </div>\n",
              "  </div>\n"
            ],
            "application/vnd.google.colaboratory.intrinsic+json": {
              "type": "dataframe",
              "repr_error": "0"
            }
          },
          "metadata": {},
          "execution_count": 7
        }
      ]
    },
    {
      "cell_type": "code",
      "source": [
        "#extracting basic information about users' dataframe\n",
        "\n",
        "df_pur.info()"
      ],
      "metadata": {
        "colab": {
          "base_uri": "https://localhost:8080/"
        },
        "id": "xP3cK2saFaaT",
        "outputId": "f3da7b59-d21e-44fe-e895-ae9b9ca78de0"
      },
      "execution_count": 8,
      "outputs": [
        {
          "output_type": "stream",
          "name": "stdout",
          "text": [
            "<class 'pandas.core.frame.DataFrame'>\n",
            "RangeIndex: 1107 entries, 0 to 1106\n",
            "Data columns (total 4 columns):\n",
            " #   Column        Non-Null Count  Dtype  \n",
            "---  ------        --------------  -----  \n",
            " 0   user_id       1107 non-null   int64  \n",
            " 1   added_time    1107 non-null   object \n",
            " 2   price         1107 non-null   float64\n",
            " 3   currency_iso  1107 non-null   object \n",
            "dtypes: float64(1), int64(1), object(2)\n",
            "memory usage: 34.7+ KB\n"
          ]
        }
      ]
    },
    {
      "cell_type": "code",
      "source": [
        "\n",
        "df_pur.describe()"
      ],
      "metadata": {
        "colab": {
          "base_uri": "https://localhost:8080/",
          "height": 300
        },
        "id": "F-WaDGA8GPXy",
        "outputId": "521e1aaf-11dd-4a76-be05-6e92b62672bc"
      },
      "execution_count": 14,
      "outputs": [
        {
          "output_type": "execute_result",
          "data": {
            "text/plain": [
              "            user_id        price\n",
              "count  1.107000e+03  1107.000000\n",
              "mean   9.165279e+06   412.881147\n",
              "std    2.405650e+04   538.055429\n",
              "min    9.128525e+06     0.003980\n",
              "25%    9.145494e+06   198.000000\n",
              "50%    9.163367e+06   258.000000\n",
              "75%    9.185986e+06   438.000000\n",
              "max    9.212172e+06  5998.000000"
            ],
            "text/html": [
              "\n",
              "  <div id=\"df-0f98e31b-e7e5-49af-bb74-f1da59b7447a\" class=\"colab-df-container\">\n",
              "    <div>\n",
              "<style scoped>\n",
              "    .dataframe tbody tr th:only-of-type {\n",
              "        vertical-align: middle;\n",
              "    }\n",
              "\n",
              "    .dataframe tbody tr th {\n",
              "        vertical-align: top;\n",
              "    }\n",
              "\n",
              "    .dataframe thead th {\n",
              "        text-align: right;\n",
              "    }\n",
              "</style>\n",
              "<table border=\"1\" class=\"dataframe\">\n",
              "  <thead>\n",
              "    <tr style=\"text-align: right;\">\n",
              "      <th></th>\n",
              "      <th>user_id</th>\n",
              "      <th>price</th>\n",
              "    </tr>\n",
              "  </thead>\n",
              "  <tbody>\n",
              "    <tr>\n",
              "      <th>count</th>\n",
              "      <td>1.107000e+03</td>\n",
              "      <td>1107.000000</td>\n",
              "    </tr>\n",
              "    <tr>\n",
              "      <th>mean</th>\n",
              "      <td>9.165279e+06</td>\n",
              "      <td>412.881147</td>\n",
              "    </tr>\n",
              "    <tr>\n",
              "      <th>std</th>\n",
              "      <td>2.405650e+04</td>\n",
              "      <td>538.055429</td>\n",
              "    </tr>\n",
              "    <tr>\n",
              "      <th>min</th>\n",
              "      <td>9.128525e+06</td>\n",
              "      <td>0.003980</td>\n",
              "    </tr>\n",
              "    <tr>\n",
              "      <th>25%</th>\n",
              "      <td>9.145494e+06</td>\n",
              "      <td>198.000000</td>\n",
              "    </tr>\n",
              "    <tr>\n",
              "      <th>50%</th>\n",
              "      <td>9.163367e+06</td>\n",
              "      <td>258.000000</td>\n",
              "    </tr>\n",
              "    <tr>\n",
              "      <th>75%</th>\n",
              "      <td>9.185986e+06</td>\n",
              "      <td>438.000000</td>\n",
              "    </tr>\n",
              "    <tr>\n",
              "      <th>max</th>\n",
              "      <td>9.212172e+06</td>\n",
              "      <td>5998.000000</td>\n",
              "    </tr>\n",
              "  </tbody>\n",
              "</table>\n",
              "</div>\n",
              "    <div class=\"colab-df-buttons\">\n",
              "\n",
              "  <div class=\"colab-df-container\">\n",
              "    <button class=\"colab-df-convert\" onclick=\"convertToInteractive('df-0f98e31b-e7e5-49af-bb74-f1da59b7447a')\"\n",
              "            title=\"Convert this dataframe to an interactive table.\"\n",
              "            style=\"display:none;\">\n",
              "\n",
              "  <svg xmlns=\"http://www.w3.org/2000/svg\" height=\"24px\" viewBox=\"0 -960 960 960\">\n",
              "    <path d=\"M120-120v-720h720v720H120Zm60-500h600v-160H180v160Zm220 220h160v-160H400v160Zm0 220h160v-160H400v160ZM180-400h160v-160H180v160Zm440 0h160v-160H620v160ZM180-180h160v-160H180v160Zm440 0h160v-160H620v160Z\"/>\n",
              "  </svg>\n",
              "    </button>\n",
              "\n",
              "  <style>\n",
              "    .colab-df-container {\n",
              "      display:flex;\n",
              "      gap: 12px;\n",
              "    }\n",
              "\n",
              "    .colab-df-convert {\n",
              "      background-color: #E8F0FE;\n",
              "      border: none;\n",
              "      border-radius: 50%;\n",
              "      cursor: pointer;\n",
              "      display: none;\n",
              "      fill: #1967D2;\n",
              "      height: 32px;\n",
              "      padding: 0 0 0 0;\n",
              "      width: 32px;\n",
              "    }\n",
              "\n",
              "    .colab-df-convert:hover {\n",
              "      background-color: #E2EBFA;\n",
              "      box-shadow: 0px 1px 2px rgba(60, 64, 67, 0.3), 0px 1px 3px 1px rgba(60, 64, 67, 0.15);\n",
              "      fill: #174EA6;\n",
              "    }\n",
              "\n",
              "    .colab-df-buttons div {\n",
              "      margin-bottom: 4px;\n",
              "    }\n",
              "\n",
              "    [theme=dark] .colab-df-convert {\n",
              "      background-color: #3B4455;\n",
              "      fill: #D2E3FC;\n",
              "    }\n",
              "\n",
              "    [theme=dark] .colab-df-convert:hover {\n",
              "      background-color: #434B5C;\n",
              "      box-shadow: 0px 1px 3px 1px rgba(0, 0, 0, 0.15);\n",
              "      filter: drop-shadow(0px 1px 2px rgba(0, 0, 0, 0.3));\n",
              "      fill: #FFFFFF;\n",
              "    }\n",
              "  </style>\n",
              "\n",
              "    <script>\n",
              "      const buttonEl =\n",
              "        document.querySelector('#df-0f98e31b-e7e5-49af-bb74-f1da59b7447a button.colab-df-convert');\n",
              "      buttonEl.style.display =\n",
              "        google.colab.kernel.accessAllowed ? 'block' : 'none';\n",
              "\n",
              "      async function convertToInteractive(key) {\n",
              "        const element = document.querySelector('#df-0f98e31b-e7e5-49af-bb74-f1da59b7447a');\n",
              "        const dataTable =\n",
              "          await google.colab.kernel.invokeFunction('convertToInteractive',\n",
              "                                                    [key], {});\n",
              "        if (!dataTable) return;\n",
              "\n",
              "        const docLinkHtml = 'Like what you see? Visit the ' +\n",
              "          '<a target=\"_blank\" href=https://colab.research.google.com/notebooks/data_table.ipynb>data table notebook</a>'\n",
              "          + ' to learn more about interactive tables.';\n",
              "        element.innerHTML = '';\n",
              "        dataTable['output_type'] = 'display_data';\n",
              "        await google.colab.output.renderOutput(dataTable, element);\n",
              "        const docLink = document.createElement('div');\n",
              "        docLink.innerHTML = docLinkHtml;\n",
              "        element.appendChild(docLink);\n",
              "      }\n",
              "    </script>\n",
              "  </div>\n",
              "\n",
              "\n",
              "<div id=\"df-8e6e18fa-1fdd-4f83-9713-14460dea38f8\">\n",
              "  <button class=\"colab-df-quickchart\" onclick=\"quickchart('df-8e6e18fa-1fdd-4f83-9713-14460dea38f8')\"\n",
              "            title=\"Suggest charts\"\n",
              "            style=\"display:none;\">\n",
              "\n",
              "<svg xmlns=\"http://www.w3.org/2000/svg\" height=\"24px\"viewBox=\"0 0 24 24\"\n",
              "     width=\"24px\">\n",
              "    <g>\n",
              "        <path d=\"M19 3H5c-1.1 0-2 .9-2 2v14c0 1.1.9 2 2 2h14c1.1 0 2-.9 2-2V5c0-1.1-.9-2-2-2zM9 17H7v-7h2v7zm4 0h-2V7h2v10zm4 0h-2v-4h2v4z\"/>\n",
              "    </g>\n",
              "</svg>\n",
              "  </button>\n",
              "\n",
              "<style>\n",
              "  .colab-df-quickchart {\n",
              "      --bg-color: #E8F0FE;\n",
              "      --fill-color: #1967D2;\n",
              "      --hover-bg-color: #E2EBFA;\n",
              "      --hover-fill-color: #174EA6;\n",
              "      --disabled-fill-color: #AAA;\n",
              "      --disabled-bg-color: #DDD;\n",
              "  }\n",
              "\n",
              "  [theme=dark] .colab-df-quickchart {\n",
              "      --bg-color: #3B4455;\n",
              "      --fill-color: #D2E3FC;\n",
              "      --hover-bg-color: #434B5C;\n",
              "      --hover-fill-color: #FFFFFF;\n",
              "      --disabled-bg-color: #3B4455;\n",
              "      --disabled-fill-color: #666;\n",
              "  }\n",
              "\n",
              "  .colab-df-quickchart {\n",
              "    background-color: var(--bg-color);\n",
              "    border: none;\n",
              "    border-radius: 50%;\n",
              "    cursor: pointer;\n",
              "    display: none;\n",
              "    fill: var(--fill-color);\n",
              "    height: 32px;\n",
              "    padding: 0;\n",
              "    width: 32px;\n",
              "  }\n",
              "\n",
              "  .colab-df-quickchart:hover {\n",
              "    background-color: var(--hover-bg-color);\n",
              "    box-shadow: 0 1px 2px rgba(60, 64, 67, 0.3), 0 1px 3px 1px rgba(60, 64, 67, 0.15);\n",
              "    fill: var(--button-hover-fill-color);\n",
              "  }\n",
              "\n",
              "  .colab-df-quickchart-complete:disabled,\n",
              "  .colab-df-quickchart-complete:disabled:hover {\n",
              "    background-color: var(--disabled-bg-color);\n",
              "    fill: var(--disabled-fill-color);\n",
              "    box-shadow: none;\n",
              "  }\n",
              "\n",
              "  .colab-df-spinner {\n",
              "    border: 2px solid var(--fill-color);\n",
              "    border-color: transparent;\n",
              "    border-bottom-color: var(--fill-color);\n",
              "    animation:\n",
              "      spin 1s steps(1) infinite;\n",
              "  }\n",
              "\n",
              "  @keyframes spin {\n",
              "    0% {\n",
              "      border-color: transparent;\n",
              "      border-bottom-color: var(--fill-color);\n",
              "      border-left-color: var(--fill-color);\n",
              "    }\n",
              "    20% {\n",
              "      border-color: transparent;\n",
              "      border-left-color: var(--fill-color);\n",
              "      border-top-color: var(--fill-color);\n",
              "    }\n",
              "    30% {\n",
              "      border-color: transparent;\n",
              "      border-left-color: var(--fill-color);\n",
              "      border-top-color: var(--fill-color);\n",
              "      border-right-color: var(--fill-color);\n",
              "    }\n",
              "    40% {\n",
              "      border-color: transparent;\n",
              "      border-right-color: var(--fill-color);\n",
              "      border-top-color: var(--fill-color);\n",
              "    }\n",
              "    60% {\n",
              "      border-color: transparent;\n",
              "      border-right-color: var(--fill-color);\n",
              "    }\n",
              "    80% {\n",
              "      border-color: transparent;\n",
              "      border-right-color: var(--fill-color);\n",
              "      border-bottom-color: var(--fill-color);\n",
              "    }\n",
              "    90% {\n",
              "      border-color: transparent;\n",
              "      border-bottom-color: var(--fill-color);\n",
              "    }\n",
              "  }\n",
              "</style>\n",
              "\n",
              "  <script>\n",
              "    async function quickchart(key) {\n",
              "      const quickchartButtonEl =\n",
              "        document.querySelector('#' + key + ' button');\n",
              "      quickchartButtonEl.disabled = true;  // To prevent multiple clicks.\n",
              "      quickchartButtonEl.classList.add('colab-df-spinner');\n",
              "      try {\n",
              "        const charts = await google.colab.kernel.invokeFunction(\n",
              "            'suggestCharts', [key], {});\n",
              "      } catch (error) {\n",
              "        console.error('Error during call to suggestCharts:', error);\n",
              "      }\n",
              "      quickchartButtonEl.classList.remove('colab-df-spinner');\n",
              "      quickchartButtonEl.classList.add('colab-df-quickchart-complete');\n",
              "    }\n",
              "    (() => {\n",
              "      let quickchartButtonEl =\n",
              "        document.querySelector('#df-8e6e18fa-1fdd-4f83-9713-14460dea38f8 button');\n",
              "      quickchartButtonEl.style.display =\n",
              "        google.colab.kernel.accessAllowed ? 'block' : 'none';\n",
              "    })();\n",
              "  </script>\n",
              "</div>\n",
              "\n",
              "    </div>\n",
              "  </div>\n"
            ],
            "application/vnd.google.colaboratory.intrinsic+json": {
              "type": "dataframe",
              "summary": "{\n  \"name\": \"df_pur\",\n  \"rows\": 8,\n  \"fields\": [\n    {\n      \"column\": \"user_id\",\n      \"properties\": {\n        \"dtype\": \"number\",\n        \"std\": 4237659.348097812,\n        \"min\": 1107.0,\n        \"max\": 9212172.0,\n        \"num_unique_values\": 8,\n        \"samples\": [\n          9165279.278229449,\n          9163367.0,\n          1107.0\n        ],\n        \"semantic_type\": \"\",\n        \"description\": \"\"\n      }\n    },\n    {\n      \"column\": \"price\",\n      \"properties\": {\n        \"dtype\": \"number\",\n        \"std\": 1998.0833670203074,\n        \"min\": 0.00398,\n        \"max\": 5998.0,\n        \"num_unique_values\": 8,\n        \"samples\": [\n          412.8811472086721,\n          258.0,\n          1107.0\n        ],\n        \"semantic_type\": \"\",\n        \"description\": \"\"\n      }\n    }\n  ]\n}"
            }
          },
          "metadata": {},
          "execution_count": 14
        }
      ]
    },
    {
      "cell_type": "code",
      "source": [
        "#meging two dataframe to get a single dataframe for purchases with group names\n",
        "df = pd.merge(df_pur, df_users, on='user_id')\n",
        "df"
      ],
      "metadata": {
        "colab": {
          "base_uri": "https://localhost:8080/",
          "height": 423
        },
        "id": "CCSi1zxbAsxB",
        "outputId": "734f046c-e821-407a-aa68-a88f3dd6c8df"
      },
      "execution_count": 15,
      "outputs": [
        {
          "output_type": "execute_result",
          "data": {
            "text/plain": [
              "      user_id                        added_time  price currency_iso group_name\n",
              "0     9129408  2024-05-16 09:06:49.178212+00:00  358.0          IRR     GroupA\n",
              "1     9130127  2024-05-16 08:48:28.419542+00:00  798.0          IRR     GroupB\n",
              "2     9136778  2024-05-18 13:47:28.460009+00:00  150.0          IRR     GroupA\n",
              "3     9133384  2024-05-17 13:44:40.406530+00:00  138.0          IRR     GroupA\n",
              "4     9151973  2024-05-18 22:00:30.568803+00:00  238.0          IRR     GroupB\n",
              "...       ...                               ...    ...          ...        ...\n",
              "1102  9185878  2024-05-29 17:40:47.241938+00:00  238.0          IRR     GroupB\n",
              "1103  9200495  2024-05-29 20:46:24.718186+00:00  258.0          IRR     GroupB\n",
              "1104  9200495  2024-05-29 20:55:52.290650+00:00  798.0          IRR     GroupB\n",
              "1105  9140661  2024-05-22 22:17:53.416886+00:00   15.0          IRR     GroupB\n",
              "1106  9184960  2024-05-23 17:12:43.915720+00:00   71.8          IRR     GroupB\n",
              "\n",
              "[1107 rows x 5 columns]"
            ],
            "text/html": [
              "\n",
              "  <div id=\"df-e7a3e585-a576-43dc-bd4c-1d41a1136bc1\" class=\"colab-df-container\">\n",
              "    <div>\n",
              "<style scoped>\n",
              "    .dataframe tbody tr th:only-of-type {\n",
              "        vertical-align: middle;\n",
              "    }\n",
              "\n",
              "    .dataframe tbody tr th {\n",
              "        vertical-align: top;\n",
              "    }\n",
              "\n",
              "    .dataframe thead th {\n",
              "        text-align: right;\n",
              "    }\n",
              "</style>\n",
              "<table border=\"1\" class=\"dataframe\">\n",
              "  <thead>\n",
              "    <tr style=\"text-align: right;\">\n",
              "      <th></th>\n",
              "      <th>user_id</th>\n",
              "      <th>added_time</th>\n",
              "      <th>price</th>\n",
              "      <th>currency_iso</th>\n",
              "      <th>group_name</th>\n",
              "    </tr>\n",
              "  </thead>\n",
              "  <tbody>\n",
              "    <tr>\n",
              "      <th>0</th>\n",
              "      <td>9129408</td>\n",
              "      <td>2024-05-16 09:06:49.178212+00:00</td>\n",
              "      <td>358.0</td>\n",
              "      <td>IRR</td>\n",
              "      <td>GroupA</td>\n",
              "    </tr>\n",
              "    <tr>\n",
              "      <th>1</th>\n",
              "      <td>9130127</td>\n",
              "      <td>2024-05-16 08:48:28.419542+00:00</td>\n",
              "      <td>798.0</td>\n",
              "      <td>IRR</td>\n",
              "      <td>GroupB</td>\n",
              "    </tr>\n",
              "    <tr>\n",
              "      <th>2</th>\n",
              "      <td>9136778</td>\n",
              "      <td>2024-05-18 13:47:28.460009+00:00</td>\n",
              "      <td>150.0</td>\n",
              "      <td>IRR</td>\n",
              "      <td>GroupA</td>\n",
              "    </tr>\n",
              "    <tr>\n",
              "      <th>3</th>\n",
              "      <td>9133384</td>\n",
              "      <td>2024-05-17 13:44:40.406530+00:00</td>\n",
              "      <td>138.0</td>\n",
              "      <td>IRR</td>\n",
              "      <td>GroupA</td>\n",
              "    </tr>\n",
              "    <tr>\n",
              "      <th>4</th>\n",
              "      <td>9151973</td>\n",
              "      <td>2024-05-18 22:00:30.568803+00:00</td>\n",
              "      <td>238.0</td>\n",
              "      <td>IRR</td>\n",
              "      <td>GroupB</td>\n",
              "    </tr>\n",
              "    <tr>\n",
              "      <th>...</th>\n",
              "      <td>...</td>\n",
              "      <td>...</td>\n",
              "      <td>...</td>\n",
              "      <td>...</td>\n",
              "      <td>...</td>\n",
              "    </tr>\n",
              "    <tr>\n",
              "      <th>1102</th>\n",
              "      <td>9185878</td>\n",
              "      <td>2024-05-29 17:40:47.241938+00:00</td>\n",
              "      <td>238.0</td>\n",
              "      <td>IRR</td>\n",
              "      <td>GroupB</td>\n",
              "    </tr>\n",
              "    <tr>\n",
              "      <th>1103</th>\n",
              "      <td>9200495</td>\n",
              "      <td>2024-05-29 20:46:24.718186+00:00</td>\n",
              "      <td>258.0</td>\n",
              "      <td>IRR</td>\n",
              "      <td>GroupB</td>\n",
              "    </tr>\n",
              "    <tr>\n",
              "      <th>1104</th>\n",
              "      <td>9200495</td>\n",
              "      <td>2024-05-29 20:55:52.290650+00:00</td>\n",
              "      <td>798.0</td>\n",
              "      <td>IRR</td>\n",
              "      <td>GroupB</td>\n",
              "    </tr>\n",
              "    <tr>\n",
              "      <th>1105</th>\n",
              "      <td>9140661</td>\n",
              "      <td>2024-05-22 22:17:53.416886+00:00</td>\n",
              "      <td>15.0</td>\n",
              "      <td>IRR</td>\n",
              "      <td>GroupB</td>\n",
              "    </tr>\n",
              "    <tr>\n",
              "      <th>1106</th>\n",
              "      <td>9184960</td>\n",
              "      <td>2024-05-23 17:12:43.915720+00:00</td>\n",
              "      <td>71.8</td>\n",
              "      <td>IRR</td>\n",
              "      <td>GroupB</td>\n",
              "    </tr>\n",
              "  </tbody>\n",
              "</table>\n",
              "<p>1107 rows × 5 columns</p>\n",
              "</div>\n",
              "    <div class=\"colab-df-buttons\">\n",
              "\n",
              "  <div class=\"colab-df-container\">\n",
              "    <button class=\"colab-df-convert\" onclick=\"convertToInteractive('df-e7a3e585-a576-43dc-bd4c-1d41a1136bc1')\"\n",
              "            title=\"Convert this dataframe to an interactive table.\"\n",
              "            style=\"display:none;\">\n",
              "\n",
              "  <svg xmlns=\"http://www.w3.org/2000/svg\" height=\"24px\" viewBox=\"0 -960 960 960\">\n",
              "    <path d=\"M120-120v-720h720v720H120Zm60-500h600v-160H180v160Zm220 220h160v-160H400v160Zm0 220h160v-160H400v160ZM180-400h160v-160H180v160Zm440 0h160v-160H620v160ZM180-180h160v-160H180v160Zm440 0h160v-160H620v160Z\"/>\n",
              "  </svg>\n",
              "    </button>\n",
              "\n",
              "  <style>\n",
              "    .colab-df-container {\n",
              "      display:flex;\n",
              "      gap: 12px;\n",
              "    }\n",
              "\n",
              "    .colab-df-convert {\n",
              "      background-color: #E8F0FE;\n",
              "      border: none;\n",
              "      border-radius: 50%;\n",
              "      cursor: pointer;\n",
              "      display: none;\n",
              "      fill: #1967D2;\n",
              "      height: 32px;\n",
              "      padding: 0 0 0 0;\n",
              "      width: 32px;\n",
              "    }\n",
              "\n",
              "    .colab-df-convert:hover {\n",
              "      background-color: #E2EBFA;\n",
              "      box-shadow: 0px 1px 2px rgba(60, 64, 67, 0.3), 0px 1px 3px 1px rgba(60, 64, 67, 0.15);\n",
              "      fill: #174EA6;\n",
              "    }\n",
              "\n",
              "    .colab-df-buttons div {\n",
              "      margin-bottom: 4px;\n",
              "    }\n",
              "\n",
              "    [theme=dark] .colab-df-convert {\n",
              "      background-color: #3B4455;\n",
              "      fill: #D2E3FC;\n",
              "    }\n",
              "\n",
              "    [theme=dark] .colab-df-convert:hover {\n",
              "      background-color: #434B5C;\n",
              "      box-shadow: 0px 1px 3px 1px rgba(0, 0, 0, 0.15);\n",
              "      filter: drop-shadow(0px 1px 2px rgba(0, 0, 0, 0.3));\n",
              "      fill: #FFFFFF;\n",
              "    }\n",
              "  </style>\n",
              "\n",
              "    <script>\n",
              "      const buttonEl =\n",
              "        document.querySelector('#df-e7a3e585-a576-43dc-bd4c-1d41a1136bc1 button.colab-df-convert');\n",
              "      buttonEl.style.display =\n",
              "        google.colab.kernel.accessAllowed ? 'block' : 'none';\n",
              "\n",
              "      async function convertToInteractive(key) {\n",
              "        const element = document.querySelector('#df-e7a3e585-a576-43dc-bd4c-1d41a1136bc1');\n",
              "        const dataTable =\n",
              "          await google.colab.kernel.invokeFunction('convertToInteractive',\n",
              "                                                    [key], {});\n",
              "        if (!dataTable) return;\n",
              "\n",
              "        const docLinkHtml = 'Like what you see? Visit the ' +\n",
              "          '<a target=\"_blank\" href=https://colab.research.google.com/notebooks/data_table.ipynb>data table notebook</a>'\n",
              "          + ' to learn more about interactive tables.';\n",
              "        element.innerHTML = '';\n",
              "        dataTable['output_type'] = 'display_data';\n",
              "        await google.colab.output.renderOutput(dataTable, element);\n",
              "        const docLink = document.createElement('div');\n",
              "        docLink.innerHTML = docLinkHtml;\n",
              "        element.appendChild(docLink);\n",
              "      }\n",
              "    </script>\n",
              "  </div>\n",
              "\n",
              "\n",
              "<div id=\"df-aab91bf1-d398-4ab4-a40e-95ff3dd8facc\">\n",
              "  <button class=\"colab-df-quickchart\" onclick=\"quickchart('df-aab91bf1-d398-4ab4-a40e-95ff3dd8facc')\"\n",
              "            title=\"Suggest charts\"\n",
              "            style=\"display:none;\">\n",
              "\n",
              "<svg xmlns=\"http://www.w3.org/2000/svg\" height=\"24px\"viewBox=\"0 0 24 24\"\n",
              "     width=\"24px\">\n",
              "    <g>\n",
              "        <path d=\"M19 3H5c-1.1 0-2 .9-2 2v14c0 1.1.9 2 2 2h14c1.1 0 2-.9 2-2V5c0-1.1-.9-2-2-2zM9 17H7v-7h2v7zm4 0h-2V7h2v10zm4 0h-2v-4h2v4z\"/>\n",
              "    </g>\n",
              "</svg>\n",
              "  </button>\n",
              "\n",
              "<style>\n",
              "  .colab-df-quickchart {\n",
              "      --bg-color: #E8F0FE;\n",
              "      --fill-color: #1967D2;\n",
              "      --hover-bg-color: #E2EBFA;\n",
              "      --hover-fill-color: #174EA6;\n",
              "      --disabled-fill-color: #AAA;\n",
              "      --disabled-bg-color: #DDD;\n",
              "  }\n",
              "\n",
              "  [theme=dark] .colab-df-quickchart {\n",
              "      --bg-color: #3B4455;\n",
              "      --fill-color: #D2E3FC;\n",
              "      --hover-bg-color: #434B5C;\n",
              "      --hover-fill-color: #FFFFFF;\n",
              "      --disabled-bg-color: #3B4455;\n",
              "      --disabled-fill-color: #666;\n",
              "  }\n",
              "\n",
              "  .colab-df-quickchart {\n",
              "    background-color: var(--bg-color);\n",
              "    border: none;\n",
              "    border-radius: 50%;\n",
              "    cursor: pointer;\n",
              "    display: none;\n",
              "    fill: var(--fill-color);\n",
              "    height: 32px;\n",
              "    padding: 0;\n",
              "    width: 32px;\n",
              "  }\n",
              "\n",
              "  .colab-df-quickchart:hover {\n",
              "    background-color: var(--hover-bg-color);\n",
              "    box-shadow: 0 1px 2px rgba(60, 64, 67, 0.3), 0 1px 3px 1px rgba(60, 64, 67, 0.15);\n",
              "    fill: var(--button-hover-fill-color);\n",
              "  }\n",
              "\n",
              "  .colab-df-quickchart-complete:disabled,\n",
              "  .colab-df-quickchart-complete:disabled:hover {\n",
              "    background-color: var(--disabled-bg-color);\n",
              "    fill: var(--disabled-fill-color);\n",
              "    box-shadow: none;\n",
              "  }\n",
              "\n",
              "  .colab-df-spinner {\n",
              "    border: 2px solid var(--fill-color);\n",
              "    border-color: transparent;\n",
              "    border-bottom-color: var(--fill-color);\n",
              "    animation:\n",
              "      spin 1s steps(1) infinite;\n",
              "  }\n",
              "\n",
              "  @keyframes spin {\n",
              "    0% {\n",
              "      border-color: transparent;\n",
              "      border-bottom-color: var(--fill-color);\n",
              "      border-left-color: var(--fill-color);\n",
              "    }\n",
              "    20% {\n",
              "      border-color: transparent;\n",
              "      border-left-color: var(--fill-color);\n",
              "      border-top-color: var(--fill-color);\n",
              "    }\n",
              "    30% {\n",
              "      border-color: transparent;\n",
              "      border-left-color: var(--fill-color);\n",
              "      border-top-color: var(--fill-color);\n",
              "      border-right-color: var(--fill-color);\n",
              "    }\n",
              "    40% {\n",
              "      border-color: transparent;\n",
              "      border-right-color: var(--fill-color);\n",
              "      border-top-color: var(--fill-color);\n",
              "    }\n",
              "    60% {\n",
              "      border-color: transparent;\n",
              "      border-right-color: var(--fill-color);\n",
              "    }\n",
              "    80% {\n",
              "      border-color: transparent;\n",
              "      border-right-color: var(--fill-color);\n",
              "      border-bottom-color: var(--fill-color);\n",
              "    }\n",
              "    90% {\n",
              "      border-color: transparent;\n",
              "      border-bottom-color: var(--fill-color);\n",
              "    }\n",
              "  }\n",
              "</style>\n",
              "\n",
              "  <script>\n",
              "    async function quickchart(key) {\n",
              "      const quickchartButtonEl =\n",
              "        document.querySelector('#' + key + ' button');\n",
              "      quickchartButtonEl.disabled = true;  // To prevent multiple clicks.\n",
              "      quickchartButtonEl.classList.add('colab-df-spinner');\n",
              "      try {\n",
              "        const charts = await google.colab.kernel.invokeFunction(\n",
              "            'suggestCharts', [key], {});\n",
              "      } catch (error) {\n",
              "        console.error('Error during call to suggestCharts:', error);\n",
              "      }\n",
              "      quickchartButtonEl.classList.remove('colab-df-spinner');\n",
              "      quickchartButtonEl.classList.add('colab-df-quickchart-complete');\n",
              "    }\n",
              "    (() => {\n",
              "      let quickchartButtonEl =\n",
              "        document.querySelector('#df-aab91bf1-d398-4ab4-a40e-95ff3dd8facc button');\n",
              "      quickchartButtonEl.style.display =\n",
              "        google.colab.kernel.accessAllowed ? 'block' : 'none';\n",
              "    })();\n",
              "  </script>\n",
              "</div>\n",
              "\n",
              "  <div id=\"id_a788f7b4-fb4b-49f5-a4f9-6ada8c5a0af3\">\n",
              "    <style>\n",
              "      .colab-df-generate {\n",
              "        background-color: #E8F0FE;\n",
              "        border: none;\n",
              "        border-radius: 50%;\n",
              "        cursor: pointer;\n",
              "        display: none;\n",
              "        fill: #1967D2;\n",
              "        height: 32px;\n",
              "        padding: 0 0 0 0;\n",
              "        width: 32px;\n",
              "      }\n",
              "\n",
              "      .colab-df-generate:hover {\n",
              "        background-color: #E2EBFA;\n",
              "        box-shadow: 0px 1px 2px rgba(60, 64, 67, 0.3), 0px 1px 3px 1px rgba(60, 64, 67, 0.15);\n",
              "        fill: #174EA6;\n",
              "      }\n",
              "\n",
              "      [theme=dark] .colab-df-generate {\n",
              "        background-color: #3B4455;\n",
              "        fill: #D2E3FC;\n",
              "      }\n",
              "\n",
              "      [theme=dark] .colab-df-generate:hover {\n",
              "        background-color: #434B5C;\n",
              "        box-shadow: 0px 1px 3px 1px rgba(0, 0, 0, 0.15);\n",
              "        filter: drop-shadow(0px 1px 2px rgba(0, 0, 0, 0.3));\n",
              "        fill: #FFFFFF;\n",
              "      }\n",
              "    </style>\n",
              "    <button class=\"colab-df-generate\" onclick=\"generateWithVariable('df')\"\n",
              "            title=\"Generate code using this dataframe.\"\n",
              "            style=\"display:none;\">\n",
              "\n",
              "  <svg xmlns=\"http://www.w3.org/2000/svg\" height=\"24px\"viewBox=\"0 0 24 24\"\n",
              "       width=\"24px\">\n",
              "    <path d=\"M7,19H8.4L18.45,9,17,7.55,7,17.6ZM5,21V16.75L18.45,3.32a2,2,0,0,1,2.83,0l1.4,1.43a1.91,1.91,0,0,1,.58,1.4,1.91,1.91,0,0,1-.58,1.4L9.25,21ZM18.45,9,17,7.55Zm-12,3A5.31,5.31,0,0,0,4.9,8.1,5.31,5.31,0,0,0,1,6.5,5.31,5.31,0,0,0,4.9,4.9,5.31,5.31,0,0,0,6.5,1,5.31,5.31,0,0,0,8.1,4.9,5.31,5.31,0,0,0,12,6.5,5.46,5.46,0,0,0,6.5,12Z\"/>\n",
              "  </svg>\n",
              "    </button>\n",
              "    <script>\n",
              "      (() => {\n",
              "      const buttonEl =\n",
              "        document.querySelector('#id_a788f7b4-fb4b-49f5-a4f9-6ada8c5a0af3 button.colab-df-generate');\n",
              "      buttonEl.style.display =\n",
              "        google.colab.kernel.accessAllowed ? 'block' : 'none';\n",
              "\n",
              "      buttonEl.onclick = () => {\n",
              "        google.colab.notebook.generateWithVariable('df');\n",
              "      }\n",
              "      })();\n",
              "    </script>\n",
              "  </div>\n",
              "\n",
              "    </div>\n",
              "  </div>\n"
            ],
            "application/vnd.google.colaboratory.intrinsic+json": {
              "type": "dataframe",
              "variable_name": "df",
              "summary": "{\n  \"name\": \"df\",\n  \"rows\": 1107,\n  \"fields\": [\n    {\n      \"column\": \"user_id\",\n      \"properties\": {\n        \"dtype\": \"number\",\n        \"std\": 24056,\n        \"min\": 9128525,\n        \"max\": 9212172,\n        \"num_unique_values\": 357,\n        \"samples\": [\n          9189562,\n          9181102,\n          9191458\n        ],\n        \"semantic_type\": \"\",\n        \"description\": \"\"\n      }\n    },\n    {\n      \"column\": \"added_time\",\n      \"properties\": {\n        \"dtype\": \"object\",\n        \"num_unique_values\": 1107,\n        \"samples\": [\n          \"2024-05-24 12:54:58.497165+00:00\",\n          \"2024-05-26 06:51:50.588456+00:00\",\n          \"2024-05-19 11:33:01.261563+00:00\"\n        ],\n        \"semantic_type\": \"\",\n        \"description\": \"\"\n      }\n    },\n    {\n      \"column\": \"price\",\n      \"properties\": {\n        \"dtype\": \"number\",\n        \"std\": 538.0554294404336,\n        \"min\": 0.00398,\n        \"max\": 5998.0,\n        \"num_unique_values\": 29,\n        \"samples\": [\n          0.00398,\n          43.8,\n          4998.0\n        ],\n        \"semantic_type\": \"\",\n        \"description\": \"\"\n      }\n    },\n    {\n      \"column\": \"currency_iso\",\n      \"properties\": {\n        \"dtype\": \"category\",\n        \"num_unique_values\": 3,\n        \"samples\": [\n          \"IRR\",\n          \"CAD\",\n          \"GBP\"\n        ],\n        \"semantic_type\": \"\",\n        \"description\": \"\"\n      }\n    },\n    {\n      \"column\": \"group_name\",\n      \"properties\": {\n        \"dtype\": \"category\",\n        \"num_unique_values\": 2,\n        \"samples\": [\n          \"GroupB\",\n          \"GroupA\"\n        ],\n        \"semantic_type\": \"\",\n        \"description\": \"\"\n      }\n    }\n  ]\n}"
            }
          },
          "metadata": {},
          "execution_count": 15
        }
      ]
    },
    {
      "cell_type": "code",
      "source": [
        "#counting number of null values in dataframe (which is zero)\n",
        "df.isnull().sum()"
      ],
      "metadata": {
        "colab": {
          "base_uri": "https://localhost:8080/"
        },
        "id": "rTovOfFX_lRN",
        "outputId": "8bb1b7ec-c657-43da-e9e0-46c9ae8c8f30"
      },
      "execution_count": 16,
      "outputs": [
        {
          "output_type": "execute_result",
          "data": {
            "text/plain": [
              "user_id         0\n",
              "added_time      0\n",
              "price           0\n",
              "currency_iso    0\n",
              "group_name      0\n",
              "dtype: int64"
            ]
          },
          "metadata": {},
          "execution_count": 16
        }
      ]
    },
    {
      "cell_type": "code",
      "source": [
        "#counting number of duplicated values in the dataframe (which is zero and we don't need to remove)\n",
        "df.duplicated().sum()"
      ],
      "metadata": {
        "colab": {
          "base_uri": "https://localhost:8080/"
        },
        "id": "33G4QI4q_pFW",
        "outputId": "1d4ad483-e7db-4704-8fa4-2543b0ec9ab0"
      },
      "execution_count": 17,
      "outputs": [
        {
          "output_type": "execute_result",
          "data": {
            "text/plain": [
              "0"
            ]
          },
          "metadata": {},
          "execution_count": 17
        }
      ]
    },
    {
      "cell_type": "markdown",
      "source": [
        "#EDA"
      ],
      "metadata": {
        "id": "SuMtW9TEKypG"
      }
    },
    {
      "cell_type": "markdown",
      "source": [
        "##Calculate basic statistics (mean, median, standard deviation) for the purchase amounts in each group."
      ],
      "metadata": {
        "id": "fJRn0nkiArbo"
      }
    },
    {
      "cell_type": "code",
      "source": [
        "grouped = df.groupby(\"group_name\") #group the main dataframe with the group name A\n",
        "groupA= grouped.get_group(\"GroupA\").reset_index() # And name it a new dataframe named groupA"
      ],
      "metadata": {
        "id": "LS5aVl5RBzJf"
      },
      "execution_count": 18,
      "outputs": []
    },
    {
      "cell_type": "code",
      "source": [
        "#extracing mean and median and standard deviation of group A\n",
        "print(\"Mean price of Group A:\" , groupA[\"price\"] .  mean())\n",
        "print(\"Median price of Group A:\" ,groupA[\"price\"] . median() )\n",
        "print(\"Standard deviation of price in Group A:\" ,groupA[\"price\"] .std())"
      ],
      "metadata": {
        "colab": {
          "base_uri": "https://localhost:8080/"
        },
        "id": "93l9TMq7_rx0",
        "outputId": "6add8b1a-c466-4fe8-a7f2-1776016118c7"
      },
      "execution_count": 19,
      "outputs": [
        {
          "output_type": "stream",
          "name": "stdout",
          "text": [
            "Mean price of Group A: 414.01478346320346\n",
            "Median price of Group A: 258.0\n",
            "Standard deviation of price in Group A: 415.55113061290865\n"
          ]
        }
      ]
    },
    {
      "cell_type": "code",
      "source": [
        "groupB= grouped.get_group(\"GroupB\").reset_index() ## and second group and name it a new dataframe named groupB"
      ],
      "metadata": {
        "id": "EtlXGLBO_yvz"
      },
      "execution_count": 20,
      "outputs": []
    },
    {
      "cell_type": "code",
      "source": [
        "#extracing mean and median and standard deviation of group B\n",
        "\n",
        "print(\"Mean price of Group B:\" , groupB[\"price\"] .  mean())\n",
        "print(\"Median price of Group B:\" ,groupB[\"price\"] . median() )\n",
        "print(\"Standard deviation of price in Group B:\" ,groupB[\"price\"] .std())"
      ],
      "metadata": {
        "colab": {
          "base_uri": "https://localhost:8080/"
        },
        "id": "wZ1yG9T0_90O",
        "outputId": "98061870-a63c-430b-ce41-099f73ec7a97"
      },
      "execution_count": 21,
      "outputs": [
        {
          "output_type": "stream",
          "name": "stdout",
          "text": [
            "Mean price of Group B: 412.06914728682165\n",
            "Median price of Group B: 258.0\n",
            "Standard deviation of price in Group B: 611.2090507514961\n"
          ]
        }
      ]
    },
    {
      "cell_type": "markdown",
      "source": [
        "##Identify and visualize the distribution of purchases over time."
      ],
      "metadata": {
        "id": "g9A4weCwCmBx"
      }
    },
    {
      "cell_type": "code",
      "source": [
        "#change the type of \"added_time\" column to datetime to work with it better\n",
        "df['added_time'] = pd.to_datetime(df['added_time'])"
      ],
      "metadata": {
        "id": "wz6QTpeVALxn"
      },
      "execution_count": 22,
      "outputs": []
    },
    {
      "cell_type": "code",
      "source": [
        "#add new columns as  year / month / week / day\n",
        "df['year'] = df['added_time'].dt.year\n",
        "df['month'] = df['added_time'].dt.month\n",
        "df['week'] = df['added_time'].dt.isocalendar().week\n",
        "df['day'] = df['added_time'].dt.day"
      ],
      "metadata": {
        "id": "AwV3DQrFCpQ9"
      },
      "execution_count": 23,
      "outputs": []
    },
    {
      "cell_type": "code",
      "source": [
        "#we see that all of our data is in the year 2024\n",
        "df[\"year\"] . unique()"
      ],
      "metadata": {
        "colab": {
          "base_uri": "https://localhost:8080/"
        },
        "id": "qo-xqKM2Dfjb",
        "outputId": "b63ac606-c758-4954-a475-c207be325fad"
      },
      "execution_count": 24,
      "outputs": [
        {
          "output_type": "execute_result",
          "data": {
            "text/plain": [
              "array([2024], dtype=int32)"
            ]
          },
          "metadata": {},
          "execution_count": 24
        }
      ]
    },
    {
      "cell_type": "code",
      "source": [
        "#and at the same month\n",
        "df['month'] . unique()"
      ],
      "metadata": {
        "colab": {
          "base_uri": "https://localhost:8080/"
        },
        "id": "dUO9mRDpEIw3",
        "outputId": "eab32b4c-7a76-49e0-bfe9-7f2731af38da"
      },
      "execution_count": 25,
      "outputs": [
        {
          "output_type": "execute_result",
          "data": {
            "text/plain": [
              "array([5], dtype=int32)"
            ]
          },
          "metadata": {},
          "execution_count": 25
        }
      ]
    },
    {
      "cell_type": "code",
      "source": [
        "#and in different three weeks\n",
        "df['week'].unique()"
      ],
      "metadata": {
        "colab": {
          "base_uri": "https://localhost:8080/"
        },
        "id": "CSv6z0L_EU3f",
        "outputId": "27a835d6-5560-4b57-ee30-ea3fb9f55c61"
      },
      "execution_count": 26,
      "outputs": [
        {
          "output_type": "execute_result",
          "data": {
            "text/plain": [
              "<IntegerArray>\n",
              "[20, 21, 22]\n",
              "Length: 3, dtype: UInt32"
            ]
          },
          "metadata": {},
          "execution_count": 26
        }
      ]
    },
    {
      "cell_type": "code",
      "source": [
        "#at the end we have the data for only 16 days\n",
        "len(df['day'] .unique())"
      ],
      "metadata": {
        "colab": {
          "base_uri": "https://localhost:8080/"
        },
        "id": "0QIM-Py8EXTy",
        "outputId": "dd072279-4d22-4ead-a66e-95db0fa00fea"
      },
      "execution_count": 27,
      "outputs": [
        {
          "output_type": "execute_result",
          "data": {
            "text/plain": [
              "16"
            ]
          },
          "metadata": {},
          "execution_count": 27
        }
      ]
    },
    {
      "cell_type": "code",
      "source": [
        "Day = df['day'].value_counts().sort_index() #making a dataframe based on the day and  see the number of purchases per day\n",
        "Day.plot(kind='bar' , alpha = 0.5) #And plot the bar plot to see the trend in different days\n",
        "\n",
        "plt.xlabel('Day of month')\n",
        "plt.ylabel('Number of purchases')\n",
        "plt.title('Distribution of purchases at different days')\n",
        "plt.xticks(rotation=90)\n",
        "plt.show()"
      ],
      "metadata": {
        "colab": {
          "base_uri": "https://localhost:8080/",
          "height": 475
        },
        "id": "SpfXEs4qFcsU",
        "outputId": "b589508b-8635-45ce-cdac-9457705fed69"
      },
      "execution_count": 28,
      "outputs": [
        {
          "output_type": "display_data",
          "data": {
            "text/plain": [
              "<Figure size 640x480 with 1 Axes>"
            ],
            "image/png": "[encoded data removed]"
          },
          "metadata": {}
        }
      ]
    },
    {
      "cell_type": "code",
      "source": [
        "Week = df['week'].value_counts().sort_index() #we can also see the trend in different weeks by doing the same as day\n",
        "Week.plot(kind='bar' , alpha = 0.5)\n",
        "plt.xlabel('week of month')\n",
        "plt.ylabel('Number of purchases')\n",
        "plt.title('Distribution of purchases at different weeks')\n",
        "plt.xticks(rotation=90)\n",
        "plt.show()"
      ],
      "metadata": {
        "colab": {
          "base_uri": "https://localhost:8080/",
          "height": 475
        },
        "id": "xGLMUdAlE-vl",
        "outputId": "ee48a75a-2c04-4082-fe93-1e434a619efe"
      },
      "execution_count": 29,
      "outputs": [
        {
          "output_type": "display_data",
          "data": {
            "text/plain": [
              "<Figure size 640x480 with 1 Axes>"
            ],
            "image/png": "[encoded data removed]"
          },
          "metadata": {}
        }
      ]
    },
    {
      "cell_type": "markdown",
      "source": [
        "##Determine the number of purchases and total revenue for each group"
      ],
      "metadata": {
        "id": "jMPLAazmHEvF"
      }
    },
    {
      "cell_type": "code",
      "source": [
        "print(\"total revenue of group A is:\", groupA[\"price\"] .sum())\n",
        "print(\"total number of purchases of group A is:\", groupA[\"price\"] .count())\n"
      ],
      "metadata": {
        "colab": {
          "base_uri": "https://localhost:8080/"
        },
        "id": "xz2NUo__GOWZ",
        "outputId": "9b329699-58e0-4c04-906c-c0b91c64f840"
      },
      "execution_count": 30,
      "outputs": [
        {
          "output_type": "stream",
          "name": "stdout",
          "text": [
            "total revenue of group A is: 191274.82996\n",
            "total number of purchases of group A is: 462\n"
          ]
        }
      ]
    },
    {
      "cell_type": "code",
      "source": [
        "tot_rev_A= groupA[\"price\"] .sum()\n",
        "tot_rev_B = groupB[\"price\"] .sum()\n",
        "\n",
        "if tot_rev_A > tot_rev_B:\n",
        "  print(\"total revenue of group A is greater than group B. A-B = \" ,tot_rev_A -tot_rev_B)\n",
        "else:\n",
        "  print(\"total revenue of group B is greater than group A. B-A = \" ,tot_rev_B -tot_rev_A)"
      ],
      "metadata": {
        "colab": {
          "base_uri": "https://localhost:8080/"
        },
        "id": "kR-HqvtcxyyC",
        "outputId": "34c594b4-3fe0-415a-8993-11a02ce8743b"
      },
      "execution_count": 31,
      "outputs": [
        {
          "output_type": "stream",
          "name": "stdout",
          "text": [
            "total revenue of group B is greater than group A. B-A =  74509.77003999997\n"
          ]
        }
      ]
    },
    {
      "cell_type": "code",
      "source": [
        "print(\"total revenue of group B is:\", groupB[\"price\"] .sum())\n",
        "print(\"total number of purchases of group B is:\", groupB[\"price\"] .count())\n"
      ],
      "metadata": {
        "colab": {
          "base_uri": "https://localhost:8080/"
        },
        "id": "yDFjELqBHWlQ",
        "outputId": "d53d2e38-acbb-4388-bc95-0512eccb80d0"
      },
      "execution_count": 32,
      "outputs": [
        {
          "output_type": "stream",
          "name": "stdout",
          "text": [
            "total revenue of group B is: 265784.6\n",
            "total number of purchases of group B is: 645\n"
          ]
        }
      ]
    },
    {
      "cell_type": "markdown",
      "source": [
        "#A/B Test Analysis"
      ],
      "metadata": {
        "id": "89mlw6nvIL8X"
      }
    },
    {
      "cell_type": "markdown",
      "source": [
        "##Formulate hypotheses for the A/B test."
      ],
      "metadata": {
        "id": "K5iPrQz4IURz"
      }
    },
    {
      "cell_type": "markdown",
      "source": [
        "###Null Hypothesis $H_0$:\n",
        "\n",
        "\n",
        "\n",
        "> There is no significant difference in the average purchase\n",
        "amount between GroupA and GroupB\n",
        "\n",
        "\n"
      ],
      "metadata": {
        "id": "RxXFIFUnIZh6"
      }
    },
    {
      "cell_type": "markdown",
      "source": [
        "###Alternative Hypothesis $H_1$:\n",
        "\n",
        "\n",
        "> There is a significant difference in the average\n",
        "purchase amount between GroupA and GroupB.\n",
        "\n"
      ],
      "metadata": {
        "id": "Dpq0rsPoIc4z"
      }
    },
    {
      "cell_type": "code",
      "source": [
        "column_to_normalize = 'price'\n",
        "scaler = MinMaxScaler()\n",
        "groupA[column_to_normalize] = scaler.fit_transform(groupA[[column_to_normalize]])\n",
        "groupB[column_to_normalize] = scaler.fit_transform(groupB[[column_to_normalize]])"
      ],
      "metadata": {
        "id": "1JZLhH-_ZeP3"
      },
      "execution_count": 33,
      "outputs": []
    },
    {
      "cell_type": "code",
      "source": [
        "#in most of the works except medical AB test we use the 0.05 significant level (alpha)\n",
        "alpha = 0.05"
      ],
      "metadata": {
        "id": "uXr9f8usaBPG"
      },
      "execution_count": 34,
      "outputs": []
    },
    {
      "cell_type": "code",
      "source": [
        "print(\"mean of group A:\" , groupA [\"price\"] .mean())\n",
        "print(\"mean of group B:\" , groupB [\"price\"] .mean())"
      ],
      "metadata": {
        "colab": {
          "base_uri": "https://localhost:8080/"
        },
        "id": "GxrNiZiGIY9A",
        "outputId": "bf2cb5f5-57d5-453d-d201-0abf530cc8de"
      },
      "execution_count": 35,
      "outputs": [
        {
          "output_type": "stream",
          "name": "stdout",
          "text": [
            "mean of group A: 0.06902485464857035\n",
            "mean of group B: 0.06636622886291521\n"
          ]
        }
      ]
    },
    {
      "cell_type": "code",
      "source": [
        "#find the avarage value of prices in different groups and defining variables\n",
        "avarage_price_GroupA = groupA [\"price\"] .mean()\n",
        "avarage_price_GroupB = groupB [\"price\"] .mean()"
      ],
      "metadata": {
        "id": "j4GRWBERHfhT"
      },
      "execution_count": 36,
      "outputs": []
    },
    {
      "cell_type": "markdown",
      "source": [
        "####t-test formula\n",
        "![image.png](data:image/png;base64,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)"
      ],
      "metadata": {
        "id": "eRMTf6Td8wsQ"
      }
    },
    {
      "cell_type": "code",
      "source": [
        "t_statistic, p_value = sci.stats.ttest_ind(groupA[\"price\"],groupB[\"price\"]) #extracting p-value and t-statistics"
      ],
      "metadata": {
        "id": "D7KWX3-jfSiH"
      },
      "execution_count": 37,
      "outputs": []
    },
    {
      "cell_type": "code",
      "source": [
        "p_value"
      ],
      "metadata": {
        "colab": {
          "base_uri": "https://localhost:8080/"
        },
        "id": "28VUB-zPgqsl",
        "outputId": "ed6fb72b-6073-4e68-ee15-4dedc483e1d1"
      },
      "execution_count": 38,
      "outputs": [
        {
          "output_type": "execute_result",
          "data": {
            "text/plain": [
              "0.6276865080308067"
            ]
          },
          "metadata": {},
          "execution_count": 38
        }
      ]
    },
    {
      "cell_type": "code",
      "source": [
        "t_statistic"
      ],
      "metadata": {
        "colab": {
          "base_uri": "https://localhost:8080/"
        },
        "id": "BpmKtcskgzjJ",
        "outputId": "f9c8dc60-4d36-4e16-e148-d2f8fa5b286b"
      },
      "execution_count": 39,
      "outputs": [
        {
          "output_type": "execute_result",
          "data": {
            "text/plain": [
              "0.485121236548362"
            ]
          },
          "metadata": {},
          "execution_count": 39
        }
      ]
    },
    {
      "cell_type": "code",
      "source": [
        "if p_value < alpha:\n",
        "    print(\"Reject the null hypothesis\")\n",
        "else:\n",
        "    print(\"Fail to reject the null hypothesis\")"
      ],
      "metadata": {
        "colab": {
          "base_uri": "https://localhost:8080/"
        },
        "id": "sMr0xWbSg2Oz",
        "outputId": "fb62e6c7-e2d0-4b58-ad50-f850e4152aee"
      },
      "execution_count": 40,
      "outputs": [
        {
          "output_type": "stream",
          "name": "stdout",
          "text": [
            "Fail to reject the null hypothesis\n"
          ]
        }
      ]
    },
    {
      "cell_type": "markdown",
      "source": [
        "> Group A and B are the same and don't have significant differnce!\n",
        "\n",
        "\n",
        "\n"
      ],
      "metadata": {
        "id": "sOVEJ2_8NsFK"
      }
    },
    {
      "cell_type": "markdown",
      "source": [
        "##Calculate the conversion rate for each group"
      ],
      "metadata": {
        "id": "WCcthbzdOJGZ"
      }
    },
    {
      "cell_type": "markdown",
      "source": [
        "\n",
        "\n",
        "> $ Conversion\\ Rate = \\frac{number\\ of\\ purchaces}{ numver\\ of\\ users}$\n",
        "\n"
      ],
      "metadata": {
        "id": "GRQYk-r-OQmY"
      }
    },
    {
      "cell_type": "code",
      "source": [
        "grouped = df_users.groupby(\"group_name\")\n",
        "groupA_users = grouped.get_group(\"GroupA\").reset_index() #total number of users in group A\n",
        "\n",
        "NO_A_users = len(groupA_users )\n",
        "NO_A_pur = len(groupA) #number of users have purchases in group A\n",
        "Conversion_rate_A = NO_A_pur /NO_A_users\n",
        "\n",
        "\n",
        "\n",
        "print(\"Conversion Rate of Group A is\", \"{:.2f}\".format(Conversion_rate_A *100))"
      ],
      "metadata": {
        "colab": {
          "base_uri": "https://localhost:8080/"
        },
        "id": "38ZMb62RY5fI",
        "outputId": "7676c57c-5149-4b2c-b8b7-04eb78846837"
      },
      "execution_count": 41,
      "outputs": [
        {
          "output_type": "stream",
          "name": "stdout",
          "text": [
            "Conversion Rate of Group A is 1.71\n"
          ]
        }
      ]
    },
    {
      "cell_type": "code",
      "source": [
        "grouped = df_users.groupby(\"group_name\")\n",
        "groupB_users = grouped.get_group(\"GroupB\").reset_index() #total number of users in group B\n",
        "\n",
        "NO_B_users = len(groupB_users )\n",
        "NO_B_pur = len(groupB) ##number of users have purchases in group B\n",
        "Conversion_rate_B = NO_B_pur /NO_B_users\n",
        "\n",
        "\n",
        "print(\"Conversion Rate of Group B is\", \"{:.2f}\".format(Conversion_rate_B *100))\n"
      ],
      "metadata": {
        "colab": {
          "base_uri": "https://localhost:8080/"
        },
        "id": "MVcsFadwajnk",
        "outputId": "999215b1-ec0a-4851-d3a3-2c3a7996fb9a"
      },
      "execution_count": 42,
      "outputs": [
        {
          "output_type": "stream",
          "name": "stdout",
          "text": [
            "Conversion Rate of Group B is 2.38\n"
          ]
        }
      ]
    },
    {
      "cell_type": "markdown",
      "source": [
        "#Data Visualization"
      ],
      "metadata": {
        "id": "hgVAQDeMc179"
      }
    },
    {
      "cell_type": "markdown",
      "source": [
        "##Create bar charts to compare the average purchase amount and total revenue between the groups."
      ],
      "metadata": {
        "id": "bqbXP-bAdA3i"
      }
    },
    {
      "cell_type": "markdown",
      "source": [
        "###average purchase amount"
      ],
      "metadata": {
        "id": "LhG_WZH1c9KS"
      }
    },
    {
      "cell_type": "code",
      "source": [
        "total_purchase_amount_A = groupA.groupby('user_id')['price'].sum() #total amount of purchase by every user in group A\n",
        "purchase_count_A = groupA.groupby('user_id')['price'].count()      #total number of purchases by every user in group A\n",
        "average_purchase_amount_A = total_purchase_amount_A / purchase_count_A # avarage amount of purchases by every user in group A\n",
        "average_purchase_amount_A = average_purchase_amount_A.mean() # Avarage of avarage amount of purchases in group A"
      ],
      "metadata": {
        "id": "Ypw-r8TvTXiv"
      },
      "execution_count": 43,
      "outputs": []
    },
    {
      "cell_type": "code",
      "source": [
        "total_purchase_amount_B= groupB.groupby('user_id')['price'].sum() #total amount of purchase by every user in group B\n",
        "purchase_count_B = groupB.groupby('user_id')['price'].count() #total number of purchases by every user in group B\n",
        "average_purchase_amount_B = total_purchase_amount_B / purchase_count_B  # avarage amount of purchases by every user in group B\n",
        "average_purchase_amount_B = average_purchase_amount_B . mean()  # Avarage of avarage amount of purchases in group B"
      ],
      "metadata": {
        "id": "5XFrSQbeU3LN"
      },
      "execution_count": 44,
      "outputs": []
    },
    {
      "cell_type": "code",
      "source": [
        "#Comparison of Average Purchase between GroupA and GroupB\n",
        "group_names = ['groupA', 'groupB']\n",
        "average_purchase = [average_purchase_amount_B , average_purchase_amount_A]\n",
        "plt.bar(group_names,average_purchase, color=['blue', 'green'] , alpha=0.4)\n",
        "plt.xlabel('Groups')\n",
        "plt.ylabel('Average Purchase ')\n",
        "plt.title('Comparison of Average Purchase between GroupA and GroupB')\n",
        "plt.show()"
      ],
      "metadata": {
        "colab": {
          "base_uri": "https://localhost:8080/",
          "height": 472
        },
        "id": "ISCCB7wvQn76",
        "outputId": "4ce1a6cc-766f-44a3-f299-b8342c2ad8e8"
      },
      "execution_count": 45,
      "outputs": [
        {
          "output_type": "display_data",
          "data": {
            "text/plain": [
              "<Figure size 640x480 with 1 Axes>"
            ],
            "image/png": "[encoded data removed]"
          },
          "metadata": {}
        }
      ]
    },
    {
      "cell_type": "markdown",
      "source": [
        "###total revenue"
      ],
      "metadata": {
        "id": "Hq0vqcPxdT1g"
      }
    },
    {
      "cell_type": "code",
      "source": [
        "total_revenue_A = groupA[\"price\"].sum() #total revenue in group A\n",
        "total_revenue_B = groupB[\"price\"].sum() #total revenue in group B"
      ],
      "metadata": {
        "id": "La2pjPYodYh2"
      },
      "execution_count": 47,
      "outputs": []
    },
    {
      "cell_type": "code",
      "source": [
        "#'Comparison of Total Revenue between GroupA and GroupB\n",
        "group_names = ['groupA', 'groupB']\n",
        "total_revenue = [total_revenue_A, total_revenue_B]\n",
        "plt.bar(group_names, total_revenue, color=['blue', 'green'] , alpha=0.4)\n",
        "plt.xlabel('Groups')\n",
        "plt.ylabel('Total Revenue')\n",
        "plt.title('Comparison of Total Revenue between GroupA and GroupB')\n",
        "plt.show()"
      ],
      "metadata": {
        "id": "aaq653cjTCUw",
        "colab": {
          "base_uri": "https://localhost:8080/",
          "height": 472
        },
        "outputId": "d245587b-db47-4a65-a4ec-27715ee03c6e"
      },
      "execution_count": 48,
      "outputs": [
        {
          "output_type": "display_data",
          "data": {
            "text/plain": [
              "<Figure size 640x480 with 1 Axes>"
            ],
            "image/png": "[encoded data removed]"
          },
          "metadata": {}
        }
      ]
    },
    {
      "cell_type": "code",
      "source": [
        "len(groupB)"
      ],
      "metadata": {
        "colab": {
          "base_uri": "https://localhost:8080/"
        },
        "id": "laflZFrN4SbG",
        "outputId": "c9461c6a-d18e-4c2b-94bf-135d26a69304"
      },
      "execution_count": null,
      "outputs": [
        {
          "output_type": "execute_result",
          "data": {
            "text/plain": [
              "645"
            ]
          },
          "metadata": {},
          "execution_count": 43
        }
      ]
    },
    {
      "cell_type": "markdown",
      "source": [
        "##Generate time series plots to show purchase trends over time for each group"
      ],
      "metadata": {
        "id": "Y7tlE4ptVxiV"
      }
    },
    {
      "cell_type": "markdown",
      "source": [
        "###Group A"
      ],
      "metadata": {
        "id": "1itkPeUBWDlq"
      }
    },
    {
      "cell_type": "code",
      "source": [
        "groupA['added_time'] = pd.to_datetime(groupA['added_time']) #\"added_time\" column from objects to datetime\n",
        "groupA['day'] = groupA['added_time'].dt.day #we know from latter analysis that our dataset is for 16 days"
      ],
      "metadata": {
        "id": "iud2DCb6WTyS"
      },
      "execution_count": 49,
      "outputs": []
    },
    {
      "cell_type": "code",
      "source": [
        "#exrtacts days and corresponding total price\n",
        "days_A = groupA.groupby(\"day\")[\"price\"] . sum() . keys()\n",
        "prices_A = groupA.groupby(\"day\")[\"price\"] . sum() . values"
      ],
      "metadata": {
        "id": "1nw4wEsJPI7Y"
      },
      "execution_count": 50,
      "outputs": []
    },
    {
      "cell_type": "code",
      "source": [
        "#time series for total price at different days\n",
        "plt.plot(days_A ,prices_A,alpha = 0.5)\n",
        "plt.xlabel(\"day of month\")\n",
        "plt.ylabel('Total Revenue at day')"
      ],
      "metadata": {
        "colab": {
          "base_uri": "https://localhost:8080/",
          "height": 466
        },
        "id": "9VrnulXdXmWF",
        "outputId": "130ef1fa-d971-4ca6-f9a9-0a2d51193b89"
      },
      "execution_count": 51,
      "outputs": [
        {
          "output_type": "execute_result",
          "data": {
            "text/plain": [
              "Text(0, 0.5, 'Total Revenue at day')"
            ]
          },
          "metadata": {},
          "execution_count": 51
        },
        {
          "output_type": "display_data",
          "data": {
            "text/plain": [
              "<Figure size 640x480 with 1 Axes>"
            ],
            "image/png": "[encoded data removed]"
          },
          "metadata": {}
        }
      ]
    },
    {
      "cell_type": "markdown",
      "source": [
        "###Group B"
      ],
      "metadata": {
        "id": "zrD-OggzWGe7"
      }
    },
    {
      "cell_type": "code",
      "source": [
        "groupB['added_time'] = pd.to_datetime(groupB['added_time']) #\"added_time\" column from objects to datetime\n",
        "groupB['day'] = groupB['added_time'].dt.day #we know from latter analysis that our dataset is for 16 days so"
      ],
      "metadata": {
        "id": "2nrC_RQsWHkg"
      },
      "execution_count": 52,
      "outputs": []
    },
    {
      "cell_type": "code",
      "source": [
        "#exrtacts days and corresponding total price\n",
        "days_B = groupB.groupby(\"day\")[\"price\"] . sum() . keys()\n",
        "prices_B = groupB.groupby(\"day\")[\"price\"] . sum() . values"
      ],
      "metadata": {
        "id": "9_ohfDHaW0W9"
      },
      "execution_count": 53,
      "outputs": []
    },
    {
      "cell_type": "code",
      "source": [
        "#time series for total price at different days\n",
        "plt.plot(days_B ,prices_B,alpha = 0.5)\n",
        "plt.xlabel(\"day of month\")\n",
        "plt.ylabel('Total Revenue at day')"
      ],
      "metadata": {
        "colab": {
          "base_uri": "https://localhost:8080/",
          "height": 466
        },
        "id": "vEL4ECGIW2Z6",
        "outputId": "8457eabd-bc05-4473-baa2-8ca8927a0b0e"
      },
      "execution_count": 54,
      "outputs": [
        {
          "output_type": "execute_result",
          "data": {
            "text/plain": [
              "Text(0, 0.5, 'Total Revenue at day')"
            ]
          },
          "metadata": {},
          "execution_count": 54
        },
        {
          "output_type": "display_data",
          "data": {
            "text/plain": [
              "<Figure size 640x480 with 1 Axes>"
            ],
            "image/png": "[encoded data removed]"
          },
          "metadata": {}
        }
      ]
    },
    {
      "cell_type": "code",
      "source": [
        "#time series for total price at different days for both groups\n",
        "\n",
        "\n",
        "plt.plot(days_A ,prices_A,alpha = 0.5)\n",
        "plt.plot(days_B ,prices_B,alpha = 0.5)\n",
        "\n",
        "plt.xlabel(\"day of month\")\n",
        "plt.ylabel('Total Revenue at day')\n",
        "plt.legend([\"group A\" , \"group B\"])\n",
        "plt.grid()"
      ],
      "metadata": {
        "colab": {
          "base_uri": "https://localhost:8080/",
          "height": 449
        },
        "id": "v80q2OnGZIBI",
        "outputId": "67fe9488-8e99-4054-a0df-e9a5e99bf073"
      },
      "execution_count": 55,
      "outputs": [
        {
          "output_type": "display_data",
          "data": {
            "text/plain": [
              "<Figure size 640x480 with 1 Axes>"
            ],
            "image/png": "[encoded data removed]"
          },
          "metadata": {}
        }
      ]
    },
    {
      "cell_type": "markdown",
      "source": [
        "##Use box plots to visualize the distribution of purchase amounts in each group"
      ],
      "metadata": {
        "id": "j670lN4Rczcg"
      }
    },
    {
      "cell_type": "code",
      "source": [
        "#with outliers\n",
        "fig, ax = plt.subplots()\n",
        "\n",
        "box1 = groupB.boxplot(column=\"price\", ax=ax, positions=[1], showfliers=True )\n",
        "box2 = groupA.boxplot(column=\"price\", ax=ax, positions=[2], color=\"red\", showfliers=True)\n",
        "\n",
        "ax.set_xticks([1, 2])\n",
        "ax.set_xticklabels(['Group B', 'Group A'])\n",
        "\n",
        "plt.show()"
      ],
      "metadata": {
        "colab": {
          "base_uri": "https://localhost:8080/",
          "height": 430
        },
        "id": "jI2MP0iyp1DV",
        "outputId": "85acf36f-ee15-45d6-8428-d43ddf2c1571"
      },
      "execution_count": 56,
      "outputs": [
        {
          "output_type": "display_data",
          "data": {
            "text/plain": [
              "<Figure size 640x480 with 1 Axes>"
            ],
            "image/png": "[encoded data removed]"
          },
          "metadata": {}
        }
      ]
    },
    {
      "cell_type": "code",
      "source": [
        "#without outliers\n",
        "fig, ax = plt.subplots()\n",
        "\n",
        "box1 = groupB.boxplot(column=\"price\", ax=ax, positions=[1], showfliers=False )\n",
        "box2 = groupA.boxplot(column=\"price\", ax=ax, positions=[2], color=\"red\", showfliers=False)\n",
        "\n",
        "ax.set_xticks([1, 2])\n",
        "ax.set_xticklabels(['Group B', 'Group A'])\n",
        "\n",
        "plt.show()"
      ],
      "metadata": {
        "colab": {
          "base_uri": "https://localhost:8080/",
          "height": 430
        },
        "id": "ZhjUb6e2pTuK",
        "outputId": "3eb1761b-4814-4222-f2c9-062af045d086"
      },
      "execution_count": 57,
      "outputs": [
        {
          "output_type": "display_data",
          "data": {
            "text/plain": [
              "<Figure size 640x480 with 1 Axes>"
            ],
            "image/png": "[encoded data removed]"
          },
          "metadata": {}
        }
      ]
    },
    {
      "cell_type": "code",
      "source": [
        "# calculate IQR for column Height\n",
        "Q1 = groupA['price'].quantile(0.25)\n",
        "Q3 = groupA['price'].quantile(0.75)\n",
        "IQR = Q3 - Q1\n",
        "\n",
        "# identify outliers\n",
        "threshold = 1.5\n",
        "outliers_A =groupA[(groupA['price'] < Q1 - threshold * IQR) | (groupA['price'] > Q3 + threshold * IQR)]"
      ],
      "metadata": {
        "id": "nhzCA_sjqU5h"
      },
      "execution_count": 58,
      "outputs": []
    },
    {
      "cell_type": "code",
      "source": [
        "outliers_A.reset_index()"
      ],
      "metadata": {
        "colab": {
          "base_uri": "https://localhost:8080/",
          "height": 1000
        },
        "id": "8EvGbxyWf6M5",
        "outputId": "0497154b-ed58-46b4-980d-6eae6ed7d00c"
      },
      "execution_count": 59,
      "outputs": [
        {
          "output_type": "execute_result",
          "data": {
            "text/plain": [
              "    level_0  index  user_id                       added_time     price  \\\n",
              "0         6     94  9160282 2024-05-21 14:48:09.395222+00:00  0.133044   \n",
              "1         7     95  9160282 2024-05-21 14:52:40.278746+00:00  0.179726   \n",
              "2        10     98  9160282 2024-05-21 04:24:11.986948+00:00  0.179726   \n",
              "3        12    100  9160282 2024-05-28 17:21:10.294231+00:00  0.179726   \n",
              "4        16    115  9151039 2024-05-21 17:43:08.649386+00:00  0.133044   \n",
              "5        24    181  9210773 2024-05-26 06:03:21.468104+00:00  0.133044   \n",
              "6        37    206  9178349 2024-05-27 12:41:30.279306+00:00  0.133044   \n",
              "7        39    208  9178349 2024-05-21 12:02:30.282476+00:00  0.133044   \n",
              "8        45    214  9136817 2024-05-29 09:48:21.979625+00:00  0.133044   \n",
              "9        50    220  9132166 2024-05-15 01:58:36.718133+00:00  0.133044   \n",
              "10       68    250  9143245 2024-05-16 12:25:58.400154+00:00  0.133044   \n",
              "11       90    272  9130878 2024-05-23 09:36:56.679274+00:00  0.366455   \n",
              "12       97    279  9130878 2024-05-25 15:44:11.429095+00:00  0.366455   \n",
              "13      111    293  9130878 2024-05-28 18:37:32.171118+00:00  0.366455   \n",
              "14      114    296  9143012 2024-05-16 18:06:47.997844+00:00  0.133044   \n",
              "15      115    297  9140585 2024-05-16 20:16:42.022126+00:00  0.179726   \n",
              "16      116    298  9140585 2024-05-19 16:59:39.830195+00:00  0.179726   \n",
              "17      117    299  9140585 2024-05-21 17:45:42.837890+00:00  0.179726   \n",
              "18      119    301  9140585 2024-05-24 16:20:54.342960+00:00  0.179726   \n",
              "19      123    349  9137748 2024-05-17 17:26:11.750527+00:00  0.133044   \n",
              "20      124    350  9137748 2024-05-26 14:46:43.575217+00:00  0.133044   \n",
              "21      125    351  9153541 2024-05-17 19:13:13.174698+00:00  0.133044   \n",
              "22      130    356  9153541 2024-05-28 22:26:44.019730+00:00  0.133044   \n",
              "23      146    457  9128525 2024-05-19 18:44:22.051780+00:00  0.133044   \n",
              "24      150    464  9137735 2024-05-19 18:52:16.561440+00:00  0.133044   \n",
              "25      151    465  9164334 2024-05-19 17:32:21.150632+00:00  0.133044   \n",
              "26      153    467  9164334 2024-05-19 17:34:06.710367+00:00  0.366455   \n",
              "27      164    478  9164334 2024-05-27 11:50:22.226204+00:00  0.133044   \n",
              "28      173    487  9164532 2024-05-20 19:08:24.002482+00:00  0.166388   \n",
              "29      174    488  9164532 2024-05-20 19:12:32.598850+00:00  0.366455   \n",
              "30      178    492  9164532 2024-05-21 12:59:31.441909+00:00  0.466488   \n",
              "31      186    500  9164532 2024-05-22 19:48:02.486040+00:00  0.179726   \n",
              "32      190    504  9164532 2024-05-26 12:29:39.018652+00:00  0.179726   \n",
              "33      191    505  9164532 2024-05-26 16:45:18.475906+00:00  0.179726   \n",
              "34      203    517  9164532 2024-05-29 09:54:11.147067+00:00  1.000000   \n",
              "35      205    522  9170665 2024-05-20 07:49:02.365675+00:00  0.133044   \n",
              "36      206    523  9170665 2024-05-21 19:11:55.827617+00:00  0.166388   \n",
              "37      208    525  9161196 2024-05-20 08:40:49.822552+00:00  0.166388   \n",
              "38      210    528  9171140 2024-05-20 11:53:59.566198+00:00  0.133044   \n",
              "39      221    590  9159227 2024-05-20 19:21:41.373084+00:00  0.133044   \n",
              "40      227    604  9166676 2024-05-21 12:39:17.226859+00:00  0.133044   \n",
              "41      318    806  9185577 2024-05-24 08:17:11.085587+00:00  0.179726   \n",
              "42      331    827  9200547 2024-05-25 05:46:56.585721+00:00  0.179726   \n",
              "43      370    927  9211148 2024-05-27 09:59:16.847376+00:00  0.133044   \n",
              "44      388    952  9195066 2024-05-25 23:11:15.141990+00:00  0.133044   \n",
              "45      392    971  9207474 2024-05-26 06:32:05.589168+00:00  0.133044   \n",
              "46      394    973  9136272 2024-05-27 20:57:48.109069+00:00  0.133044   \n",
              "47      395    976  9150787 2024-05-26 07:12:43.758449+00:00  0.133044   \n",
              "48      398    984  9190453 2024-05-26 10:49:45.308285+00:00  0.133044   \n",
              "49      399    985  9190453 2024-05-26 10:49:45.321093+00:00  0.133044   \n",
              "50      406   1008  9201923 2024-05-26 21:08:15.733322+00:00  0.133044   \n",
              "51      414   1022  9186909 2024-05-27 07:08:39.435023+00:00  0.133044   \n",
              "52      420   1037  9186691 2024-05-27 13:11:29.430364+00:00  0.133044   \n",
              "\n",
              "   currency_iso group_name  day  \n",
              "0           IRR     GroupA   21  \n",
              "1           IRR     GroupA   21  \n",
              "2           IRR     GroupA   21  \n",
              "3           IRR     GroupA   28  \n",
              "4           IRR     GroupA   21  \n",
              "5           IRR     GroupA   26  \n",
              "6           IRR     GroupA   27  \n",
              "7           IRR     GroupA   21  \n",
              "8           IRR     GroupA   29  \n",
              "9           IRR     GroupA   15  \n",
              "10          IRR     GroupA   16  \n",
              "11          IRR     GroupA   23  \n",
              "12          IRR     GroupA   25  \n",
              "13          IRR     GroupA   28  \n",
              "14          IRR     GroupA   16  \n",
              "15          IRR     GroupA   16  \n",
              "16          IRR     GroupA   19  \n",
              "17          IRR     GroupA   21  \n",
              "18          IRR     GroupA   24  \n",
              "19          IRR     GroupA   17  \n",
              "20          IRR     GroupA   26  \n",
              "21          IRR     GroupA   17  \n",
              "22          IRR     GroupA   28  \n",
              "23          IRR     GroupA   19  \n",
              "24          IRR     GroupA   19  \n",
              "25          IRR     GroupA   19  \n",
              "26          IRR     GroupA   19  \n",
              "27          IRR     GroupA   27  \n",
              "28          IRR     GroupA   20  \n",
              "29          IRR     GroupA   20  \n",
              "30          IRR     GroupA   21  \n",
              "31          IRR     GroupA   22  \n",
              "32          IRR     GroupA   26  \n",
              "33          IRR     GroupA   26  \n",
              "34          IRR     GroupA   29  \n",
              "35          IRR     GroupA   20  \n",
              "36          IRR     GroupA   21  \n",
              "37          IRR     GroupA   20  \n",
              "38          IRR     GroupA   20  \n",
              "39          IRR     GroupA   20  \n",
              "40          IRR     GroupA   21  \n",
              "41          IRR     GroupA   24  \n",
              "42          IRR     GroupA   25  \n",
              "43          IRR     GroupA   27  \n",
              "44          IRR     GroupA   25  \n",
              "45          IRR     GroupA   26  \n",
              "46          IRR     GroupA   27  \n",
              "47          IRR     GroupA   26  \n",
              "48          IRR     GroupA   26  \n",
              "49          IRR     GroupA   26  \n",
              "50          IRR     GroupA   26  \n",
              "51          IRR     GroupA   27  \n",
              "52          IRR     GroupA   27  "
            ],
            "text/html": [
              "\n",
              "  <div id=\"df-5c1c821e-b3f9-4d21-bf0c-7b8846051102\" class=\"colab-df-container\">\n",
              "    <div>\n",
              "<style scoped>\n",
              "    .dataframe tbody tr th:only-of-type {\n",
              "        vertical-align: middle;\n",
              "    }\n",
              "\n",
              "    .dataframe tbody tr th {\n",
              "        vertical-align: top;\n",
              "    }\n",
              "\n",
              "    .dataframe thead th {\n",
              "        text-align: right;\n",
              "    }\n",
              "</style>\n",
              "<table border=\"1\" class=\"dataframe\">\n",
              "  <thead>\n",
              "    <tr style=\"text-align: right;\">\n",
              "      <th></th>\n",
              "      <th>level_0</th>\n",
              "      <th>index</th>\n",
              "      <th>user_id</th>\n",
              "      <th>added_time</th>\n",
              "      <th>price</th>\n",
              "      <th>currency_iso</th>\n",
              "      <th>group_name</th>\n",
              "      <th>day</th>\n",
              "    </tr>\n",
              "  </thead>\n",
              "  <tbody>\n",
              "    <tr>\n",
              "      <th>0</th>\n",
              "      <td>6</td>\n",
              "      <td>94</td>\n",
              "      <td>9160282</td>\n",
              "      <td>2024-05-21 14:48:09.395222+00:00</td>\n",
              "      <td>0.133044</td>\n",
              "      <td>IRR</td>\n",
              "      <td>GroupA</td>\n",
              "      <td>21</td>\n",
              "    </tr>\n",
              "    <tr>\n",
              "      <th>1</th>\n",
              "      <td>7</td>\n",
              "      <td>95</td>\n",
              "      <td>9160282</td>\n",
              "      <td>2024-05-21 14:52:40.278746+00:00</td>\n",
              "      <td>0.179726</td>\n",
              "      <td>IRR</td>\n",
              "      <td>GroupA</td>\n",
              "      <td>21</td>\n",
              "    </tr>\n",
              "    <tr>\n",
              "      <th>2</th>\n",
              "      <td>10</td>\n",
              "      <td>98</td>\n",
              "      <td>9160282</td>\n",
              "      <td>2024-05-21 04:24:11.986948+00:00</td>\n",
              "      <td>0.179726</td>\n",
              "      <td>IRR</td>\n",
              "      <td>GroupA</td>\n",
              "      <td>21</td>\n",
              "    </tr>\n",
              "    <tr>\n",
              "      <th>3</th>\n",
              "      <td>12</td>\n",
              "      <td>100</td>\n",
              "      <td>9160282</td>\n",
              "      <td>2024-05-28 17:21:10.294231+00:00</td>\n",
              "      <td>0.179726</td>\n",
              "      <td>IRR</td>\n",
              "      <td>GroupA</td>\n",
              "      <td>28</td>\n",
              "    </tr>\n",
              "    <tr>\n",
              "      <th>4</th>\n",
              "      <td>16</td>\n",
              "      <td>115</td>\n",
              "      <td>9151039</td>\n",
              "      <td>2024-05-21 17:43:08.649386+00:00</td>\n",
              "      <td>0.133044</td>\n",
              "      <td>IRR</td>\n",
              "      <td>GroupA</td>\n",
              "      <td>21</td>\n",
              "    </tr>\n",
              "    <tr>\n",
              "      <th>5</th>\n",
              "      <td>24</td>\n",
              "      <td>181</td>\n",
              "      <td>9210773</td>\n",
              "      <td>2024-05-26 06:03:21.468104+00:00</td>\n",
              "      <td>0.133044</td>\n",
              "      <td>IRR</td>\n",
              "      <td>GroupA</td>\n",
              "      <td>26</td>\n",
              "    </tr>\n",
              "    <tr>\n",
              "      <th>6</th>\n",
              "      <td>37</td>\n",
              "      <td>206</td>\n",
              "      <td>9178349</td>\n",
              "      <td>2024-05-27 12:41:30.279306+00:00</td>\n",
              "      <td>0.133044</td>\n",
              "      <td>IRR</td>\n",
              "      <td>GroupA</td>\n",
              "      <td>27</td>\n",
              "    </tr>\n",
              "    <tr>\n",
              "      <th>7</th>\n",
              "      <td>39</td>\n",
              "      <td>208</td>\n",
              "      <td>9178349</td>\n",
              "      <td>2024-05-21 12:02:30.282476+00:00</td>\n",
              "      <td>0.133044</td>\n",
              "      <td>IRR</td>\n",
              "      <td>GroupA</td>\n",
              "      <td>21</td>\n",
              "    </tr>\n",
              "    <tr>\n",
              "      <th>8</th>\n",
              "      <td>45</td>\n",
              "      <td>214</td>\n",
              "      <td>9136817</td>\n",
              "      <td>2024-05-29 09:48:21.979625+00:00</td>\n",
              "      <td>0.133044</td>\n",
              "      <td>IRR</td>\n",
              "      <td>GroupA</td>\n",
              "      <td>29</td>\n",
              "    </tr>\n",
              "    <tr>\n",
              "      <th>9</th>\n",
              "      <td>50</td>\n",
              "      <td>220</td>\n",
              "      <td>9132166</td>\n",
              "      <td>2024-05-15 01:58:36.718133+00:00</td>\n",
              "      <td>0.133044</td>\n",
              "      <td>IRR</td>\n",
              "      <td>GroupA</td>\n",
              "      <td>15</td>\n",
              "    </tr>\n",
              "    <tr>\n",
              "      <th>10</th>\n",
              "      <td>68</td>\n",
              "      <td>250</td>\n",
              "      <td>9143245</td>\n",
              "      <td>2024-05-16 12:25:58.400154+00:00</td>\n",
              "      <td>0.133044</td>\n",
              "      <td>IRR</td>\n",
              "      <td>GroupA</td>\n",
              "      <td>16</td>\n",
              "    </tr>\n",
              "    <tr>\n",
              "      <th>11</th>\n",
              "      <td>90</td>\n",
              "      <td>272</td>\n",
              "      <td>9130878</td>\n",
              "      <td>2024-05-23 09:36:56.679274+00:00</td>\n",
              "      <td>0.366455</td>\n",
              "      <td>IRR</td>\n",
              "      <td>GroupA</td>\n",
              "      <td>23</td>\n",
              "    </tr>\n",
              "    <tr>\n",
              "      <th>12</th>\n",
              "      <td>97</td>\n",
              "      <td>279</td>\n",
              "      <td>9130878</td>\n",
              "      <td>2024-05-25 15:44:11.429095+00:00</td>\n",
              "      <td>0.366455</td>\n",
              "      <td>IRR</td>\n",
              "      <td>GroupA</td>\n",
              "      <td>25</td>\n",
              "    </tr>\n",
              "    <tr>\n",
              "      <th>13</th>\n",
              "      <td>111</td>\n",
              "      <td>293</td>\n",
              "      <td>9130878</td>\n",
              "      <td>2024-05-28 18:37:32.171118+00:00</td>\n",
              "      <td>0.366455</td>\n",
              "      <td>IRR</td>\n",
              "      <td>GroupA</td>\n",
              "      <td>28</td>\n",
              "    </tr>\n",
              "    <tr>\n",
              "      <th>14</th>\n",
              "      <td>114</td>\n",
              "      <td>296</td>\n",
              "      <td>9143012</td>\n",
              "      <td>2024-05-16 18:06:47.997844+00:00</td>\n",
              "      <td>0.133044</td>\n",
              "      <td>IRR</td>\n",
              "      <td>GroupA</td>\n",
              "      <td>16</td>\n",
              "    </tr>\n",
              "    <tr>\n",
              "      <th>15</th>\n",
              "      <td>115</td>\n",
              "      <td>297</td>\n",
              "      <td>9140585</td>\n",
              "      <td>2024-05-16 20:16:42.022126+00:00</td>\n",
              "      <td>0.179726</td>\n",
              "      <td>IRR</td>\n",
              "      <td>GroupA</td>\n",
              "      <td>16</td>\n",
              "    </tr>\n",
              "    <tr>\n",
              "      <th>16</th>\n",
              "      <td>116</td>\n",
              "      <td>298</td>\n",
              "      <td>9140585</td>\n",
              "      <td>2024-05-19 16:59:39.830195+00:00</td>\n",
              "      <td>0.179726</td>\n",
              "      <td>IRR</td>\n",
              "      <td>GroupA</td>\n",
              "      <td>19</td>\n",
              "    </tr>\n",
              "    <tr>\n",
              "      <th>17</th>\n",
              "      <td>117</td>\n",
              "      <td>299</td>\n",
              "      <td>9140585</td>\n",
              "      <td>2024-05-21 17:45:42.837890+00:00</td>\n",
              "      <td>0.179726</td>\n",
              "      <td>IRR</td>\n",
              "      <td>GroupA</td>\n",
              "      <td>21</td>\n",
              "    </tr>\n",
              "    <tr>\n",
              "      <th>18</th>\n",
              "      <td>119</td>\n",
              "      <td>301</td>\n",
              "      <td>9140585</td>\n",
              "      <td>2024-05-24 16:20:54.342960+00:00</td>\n",
              "      <td>0.179726</td>\n",
              "      <td>IRR</td>\n",
              "      <td>GroupA</td>\n",
              "      <td>24</td>\n",
              "    </tr>\n",
              "    <tr>\n",
              "      <th>19</th>\n",
              "      <td>123</td>\n",
              "      <td>349</td>\n",
              "      <td>9137748</td>\n",
              "      <td>2024-05-17 17:26:11.750527+00:00</td>\n",
              "      <td>0.133044</td>\n",
              "      <td>IRR</td>\n",
              "      <td>GroupA</td>\n",
              "      <td>17</td>\n",
              "    </tr>\n",
              "    <tr>\n",
              "      <th>20</th>\n",
              "      <td>124</td>\n",
              "      <td>350</td>\n",
              "      <td>9137748</td>\n",
              "      <td>2024-05-26 14:46:43.575217+00:00</td>\n",
              "      <td>0.133044</td>\n",
              "      <td>IRR</td>\n",
              "      <td>GroupA</td>\n",
              "      <td>26</td>\n",
              "    </tr>\n",
              "    <tr>\n",
              "      <th>21</th>\n",
              "      <td>125</td>\n",
              "      <td>351</td>\n",
              "      <td>9153541</td>\n",
              "      <td>2024-05-17 19:13:13.174698+00:00</td>\n",
              "      <td>0.133044</td>\n",
              "      <td>IRR</td>\n",
              "      <td>GroupA</td>\n",
              "      <td>17</td>\n",
              "    </tr>\n",
              "    <tr>\n",
              "      <th>22</th>\n",
              "      <td>130</td>\n",
              "      <td>356</td>\n",
              "      <td>9153541</td>\n",
              "      <td>2024-05-28 22:26:44.019730+00:00</td>\n",
              "      <td>0.133044</td>\n",
              "      <td>IRR</td>\n",
              "      <td>GroupA</td>\n",
              "      <td>28</td>\n",
              "    </tr>\n",
              "    <tr>\n",
              "      <th>23</th>\n",
              "      <td>146</td>\n",
              "      <td>457</td>\n",
              "      <td>9128525</td>\n",
              "      <td>2024-05-19 18:44:22.051780+00:00</td>\n",
              "      <td>0.133044</td>\n",
              "      <td>IRR</td>\n",
              "      <td>GroupA</td>\n",
              "      <td>19</td>\n",
              "    </tr>\n",
              "    <tr>\n",
              "      <th>24</th>\n",
              "      <td>150</td>\n",
              "      <td>464</td>\n",
              "      <td>9137735</td>\n",
              "      <td>2024-05-19 18:52:16.561440+00:00</td>\n",
              "      <td>0.133044</td>\n",
              "      <td>IRR</td>\n",
              "      <td>GroupA</td>\n",
              "      <td>19</td>\n",
              "    </tr>\n",
              "    <tr>\n",
              "      <th>25</th>\n",
              "      <td>151</td>\n",
              "      <td>465</td>\n",
              "      <td>9164334</td>\n",
              "      <td>2024-05-19 17:32:21.150632+00:00</td>\n",
              "      <td>0.133044</td>\n",
              "      <td>IRR</td>\n",
              "      <td>GroupA</td>\n",
              "      <td>19</td>\n",
              "    </tr>\n",
              "    <tr>\n",
              "      <th>26</th>\n",
              "      <td>153</td>\n",
              "      <td>467</td>\n",
              "      <td>9164334</td>\n",
              "      <td>2024-05-19 17:34:06.710367+00:00</td>\n",
              "      <td>0.366455</td>\n",
              "      <td>IRR</td>\n",
              "      <td>GroupA</td>\n",
              "      <td>19</td>\n",
              "    </tr>\n",
              "    <tr>\n",
              "      <th>27</th>\n",
              "      <td>164</td>\n",
              "      <td>478</td>\n",
              "      <td>9164334</td>\n",
              "      <td>2024-05-27 11:50:22.226204+00:00</td>\n",
              "      <td>0.133044</td>\n",
              "      <td>IRR</td>\n",
              "      <td>GroupA</td>\n",
              "      <td>27</td>\n",
              "    </tr>\n",
              "    <tr>\n",
              "      <th>28</th>\n",
              "      <td>173</td>\n",
              "      <td>487</td>\n",
              "      <td>9164532</td>\n",
              "      <td>2024-05-20 19:08:24.002482+00:00</td>\n",
              "      <td>0.166388</td>\n",
              "      <td>IRR</td>\n",
              "      <td>GroupA</td>\n",
              "      <td>20</td>\n",
              "    </tr>\n",
              "    <tr>\n",
              "      <th>29</th>\n",
              "      <td>174</td>\n",
              "      <td>488</td>\n",
              "      <td>9164532</td>\n",
              "      <td>2024-05-20 19:12:32.598850+00:00</td>\n",
              "      <td>0.366455</td>\n",
              "      <td>IRR</td>\n",
              "      <td>GroupA</td>\n",
              "      <td>20</td>\n",
              "    </tr>\n",
              "    <tr>\n",
              "      <th>30</th>\n",
              "      <td>178</td>\n",
              "      <td>492</td>\n",
              "      <td>9164532</td>\n",
              "      <td>2024-05-21 12:59:31.441909+00:00</td>\n",
              "      <td>0.466488</td>\n",
              "      <td>IRR</td>\n",
              "      <td>GroupA</td>\n",
              "      <td>21</td>\n",
              "    </tr>\n",
              "    <tr>\n",
              "      <th>31</th>\n",
              "      <td>186</td>\n",
              "      <td>500</td>\n",
              "      <td>9164532</td>\n",
              "      <td>2024-05-22 19:48:02.486040+00:00</td>\n",
              "      <td>0.179726</td>\n",
              "      <td>IRR</td>\n",
              "      <td>GroupA</td>\n",
              "      <td>22</td>\n",
              "    </tr>\n",
              "    <tr>\n",
              "      <th>32</th>\n",
              "      <td>190</td>\n",
              "      <td>504</td>\n",
              "      <td>9164532</td>\n",
              "      <td>2024-05-26 12:29:39.018652+00:00</td>\n",
              "      <td>0.179726</td>\n",
              "      <td>IRR</td>\n",
              "      <td>GroupA</td>\n",
              "      <td>26</td>\n",
              "    </tr>\n",
              "    <tr>\n",
              "      <th>33</th>\n",
              "      <td>191</td>\n",
              "      <td>505</td>\n",
              "      <td>9164532</td>\n",
              "      <td>2024-05-26 16:45:18.475906+00:00</td>\n",
              "      <td>0.179726</td>\n",
              "      <td>IRR</td>\n",
              "      <td>GroupA</td>\n",
              "      <td>26</td>\n",
              "    </tr>\n",
              "    <tr>\n",
              "      <th>34</th>\n",
              "      <td>203</td>\n",
              "      <td>517</td>\n",
              "      <td>9164532</td>\n",
              "      <td>2024-05-29 09:54:11.147067+00:00</td>\n",
              "      <td>1.000000</td>\n",
              "      <td>IRR</td>\n",
              "      <td>GroupA</td>\n",
              "      <td>29</td>\n",
              "    </tr>\n",
              "    <tr>\n",
              "      <th>35</th>\n",
              "      <td>205</td>\n",
              "      <td>522</td>\n",
              "      <td>9170665</td>\n",
              "      <td>2024-05-20 07:49:02.365675+00:00</td>\n",
              "      <td>0.133044</td>\n",
              "      <td>IRR</td>\n",
              "      <td>GroupA</td>\n",
              "      <td>20</td>\n",
              "    </tr>\n",
              "    <tr>\n",
              "      <th>36</th>\n",
              "      <td>206</td>\n",
              "      <td>523</td>\n",
              "      <td>9170665</td>\n",
              "      <td>2024-05-21 19:11:55.827617+00:00</td>\n",
              "      <td>0.166388</td>\n",
              "      <td>IRR</td>\n",
              "      <td>GroupA</td>\n",
              "      <td>21</td>\n",
              "    </tr>\n",
              "    <tr>\n",
              "      <th>37</th>\n",
              "      <td>208</td>\n",
              "      <td>525</td>\n",
              "      <td>9161196</td>\n",
              "      <td>2024-05-20 08:40:49.822552+00:00</td>\n",
              "      <td>0.166388</td>\n",
              "      <td>IRR</td>\n",
              "      <td>GroupA</td>\n",
              "      <td>20</td>\n",
              "    </tr>\n",
              "    <tr>\n",
              "      <th>38</th>\n",
              "      <td>210</td>\n",
              "      <td>528</td>\n",
              "      <td>9171140</td>\n",
              "      <td>2024-05-20 11:53:59.566198+00:00</td>\n",
              "      <td>0.133044</td>\n",
              "      <td>IRR</td>\n",
              "      <td>GroupA</td>\n",
              "      <td>20</td>\n",
              "    </tr>\n",
              "    <tr>\n",
              "      <th>39</th>\n",
              "      <td>221</td>\n",
              "      <td>590</td>\n",
              "      <td>9159227</td>\n",
              "      <td>2024-05-20 19:21:41.373084+00:00</td>\n",
              "      <td>0.133044</td>\n",
              "      <td>IRR</td>\n",
              "      <td>GroupA</td>\n",
              "      <td>20</td>\n",
              "    </tr>\n",
              "    <tr>\n",
              "      <th>40</th>\n",
              "      <td>227</td>\n",
              "      <td>604</td>\n",
              "      <td>9166676</td>\n",
              "      <td>2024-05-21 12:39:17.226859+00:00</td>\n",
              "      <td>0.133044</td>\n",
              "      <td>IRR</td>\n",
              "      <td>GroupA</td>\n",
              "      <td>21</td>\n",
              "    </tr>\n",
              "    <tr>\n",
              "      <th>41</th>\n",
              "      <td>318</td>\n",
              "      <td>806</td>\n",
              "      <td>9185577</td>\n",
              "      <td>2024-05-24 08:17:11.085587+00:00</td>\n",
              "      <td>0.179726</td>\n",
              "      <td>IRR</td>\n",
              "      <td>GroupA</td>\n",
              "      <td>24</td>\n",
              "    </tr>\n",
              "    <tr>\n",
              "      <th>42</th>\n",
              "      <td>331</td>\n",
              "      <td>827</td>\n",
              "      <td>9200547</td>\n",
              "      <td>2024-05-25 05:46:56.585721+00:00</td>\n",
              "      <td>0.179726</td>\n",
              "      <td>IRR</td>\n",
              "      <td>GroupA</td>\n",
              "      <td>25</td>\n",
              "    </tr>\n",
              "    <tr>\n",
              "      <th>43</th>\n",
              "      <td>370</td>\n",
              "      <td>927</td>\n",
              "      <td>9211148</td>\n",
              "      <td>2024-05-27 09:59:16.847376+00:00</td>\n",
              "      <td>0.133044</td>\n",
              "      <td>IRR</td>\n",
              "      <td>GroupA</td>\n",
              "      <td>27</td>\n",
              "    </tr>\n",
              "    <tr>\n",
              "      <th>44</th>\n",
              "      <td>388</td>\n",
              "      <td>952</td>\n",
              "      <td>9195066</td>\n",
              "      <td>2024-05-25 23:11:15.141990+00:00</td>\n",
              "      <td>0.133044</td>\n",
              "      <td>IRR</td>\n",
              "      <td>GroupA</td>\n",
              "      <td>25</td>\n",
              "    </tr>\n",
              "    <tr>\n",
              "      <th>45</th>\n",
              "      <td>392</td>\n",
              "      <td>971</td>\n",
              "      <td>9207474</td>\n",
              "      <td>2024-05-26 06:32:05.589168+00:00</td>\n",
              "      <td>0.133044</td>\n",
              "      <td>IRR</td>\n",
              "      <td>GroupA</td>\n",
              "      <td>26</td>\n",
              "    </tr>\n",
              "    <tr>\n",
              "      <th>46</th>\n",
              "      <td>394</td>\n",
              "      <td>973</td>\n",
              "      <td>9136272</td>\n",
              "      <td>2024-05-27 20:57:48.109069+00:00</td>\n",
              "      <td>0.133044</td>\n",
              "      <td>IRR</td>\n",
              "      <td>GroupA</td>\n",
              "      <td>27</td>\n",
              "    </tr>\n",
              "    <tr>\n",
              "      <th>47</th>\n",
              "      <td>395</td>\n",
              "      <td>976</td>\n",
              "      <td>9150787</td>\n",
              "      <td>2024-05-26 07:12:43.758449+00:00</td>\n",
              "      <td>0.133044</td>\n",
              "      <td>IRR</td>\n",
              "      <td>GroupA</td>\n",
              "      <td>26</td>\n",
              "    </tr>\n",
              "    <tr>\n",
              "      <th>48</th>\n",
              "      <td>398</td>\n",
              "      <td>984</td>\n",
              "      <td>9190453</td>\n",
              "      <td>2024-05-26 10:49:45.308285+00:00</td>\n",
              "      <td>0.133044</td>\n",
              "      <td>IRR</td>\n",
              "      <td>GroupA</td>\n",
              "      <td>26</td>\n",
              "    </tr>\n",
              "    <tr>\n",
              "      <th>49</th>\n",
              "      <td>399</td>\n",
              "      <td>985</td>\n",
              "      <td>9190453</td>\n",
              "      <td>2024-05-26 10:49:45.321093+00:00</td>\n",
              "      <td>0.133044</td>\n",
              "      <td>IRR</td>\n",
              "      <td>GroupA</td>\n",
              "      <td>26</td>\n",
              "    </tr>\n",
              "    <tr>\n",
              "      <th>50</th>\n",
              "      <td>406</td>\n",
              "      <td>1008</td>\n",
              "      <td>9201923</td>\n",
              "      <td>2024-05-26 21:08:15.733322+00:00</td>\n",
              "      <td>0.133044</td>\n",
              "      <td>IRR</td>\n",
              "      <td>GroupA</td>\n",
              "      <td>26</td>\n",
              "    </tr>\n",
              "    <tr>\n",
              "      <th>51</th>\n",
              "      <td>414</td>\n",
              "      <td>1022</td>\n",
              "      <td>9186909</td>\n",
              "      <td>2024-05-27 07:08:39.435023+00:00</td>\n",
              "      <td>0.133044</td>\n",
              "      <td>IRR</td>\n",
              "      <td>GroupA</td>\n",
              "      <td>27</td>\n",
              "    </tr>\n",
              "    <tr>\n",
              "      <th>52</th>\n",
              "      <td>420</td>\n",
              "      <td>1037</td>\n",
              "      <td>9186691</td>\n",
              "      <td>2024-05-27 13:11:29.430364+00:00</td>\n",
              "      <td>0.133044</td>\n",
              "      <td>IRR</td>\n",
              "      <td>GroupA</td>\n",
              "      <td>27</td>\n",
              "    </tr>\n",
              "  </tbody>\n",
              "</table>\n",
              "</div>\n",
              "    <div class=\"colab-df-buttons\">\n",
              "\n",
              "  <div class=\"colab-df-container\">\n",
              "    <button class=\"colab-df-convert\" onclick=\"convertToInteractive('df-5c1c821e-b3f9-4d21-bf0c-7b8846051102')\"\n",
              "            title=\"Convert this dataframe to an interactive table.\"\n",
              "            style=\"display:none;\">\n",
              "\n",
              "  <svg xmlns=\"http://www.w3.org/2000/svg\" height=\"24px\" viewBox=\"0 -960 960 960\">\n",
              "    <path d=\"M120-120v-720h720v720H120Zm60-500h600v-160H180v160Zm220 220h160v-160H400v160Zm0 220h160v-160H400v160ZM180-400h160v-160H180v160Zm440 0h160v-160H620v160ZM180-180h160v-160H180v160Zm440 0h160v-160H620v160Z\"/>\n",
              "  </svg>\n",
              "    </button>\n",
              "\n",
              "  <style>\n",
              "    .colab-df-container {\n",
              "      display:flex;\n",
              "      gap: 12px;\n",
              "    }\n",
              "\n",
              "    .colab-df-convert {\n",
              "      background-color: #E8F0FE;\n",
              "      border: none;\n",
              "      border-radius: 50%;\n",
              "      cursor: pointer;\n",
              "      display: none;\n",
              "      fill: #1967D2;\n",
              "      height: 32px;\n",
              "      padding: 0 0 0 0;\n",
              "      width: 32px;\n",
              "    }\n",
              "\n",
              "    .colab-df-convert:hover {\n",
              "      background-color: #E2EBFA;\n",
              "      box-shadow: 0px 1px 2px rgba(60, 64, 67, 0.3), 0px 1px 3px 1px rgba(60, 64, 67, 0.15);\n",
              "      fill: #174EA6;\n",
              "    }\n",
              "\n",
              "    .colab-df-buttons div {\n",
              "      margin-bottom: 4px;\n",
              "    }\n",
              "\n",
              "    [theme=dark] .colab-df-convert {\n",
              "      background-color: #3B4455;\n",
              "      fill: #D2E3FC;\n",
              "    }\n",
              "\n",
              "    [theme=dark] .colab-df-convert:hover {\n",
              "      background-color: #434B5C;\n",
              "      box-shadow: 0px 1px 3px 1px rgba(0, 0, 0, 0.15);\n",
              "      filter: drop-shadow(0px 1px 2px rgba(0, 0, 0, 0.3));\n",
              "      fill: #FFFFFF;\n",
              "    }\n",
              "  </style>\n",
              "\n",
              "    <script>\n",
              "      const buttonEl =\n",
              "        document.querySelector('#df-5c1c821e-b3f9-4d21-bf0c-7b8846051102 button.colab-df-convert');\n",
              "      buttonEl.style.display =\n",
              "        google.colab.kernel.accessAllowed ? 'block' : 'none';\n",
              "\n",
              "      async function convertToInteractive(key) {\n",
              "        const element = document.querySelector('#df-5c1c821e-b3f9-4d21-bf0c-7b8846051102');\n",
              "        const dataTable =\n",
              "          await google.colab.kernel.invokeFunction('convertToInteractive',\n",
              "                                                    [key], {});\n",
              "        if (!dataTable) return;\n",
              "\n",
              "        const docLinkHtml = 'Like what you see? Visit the ' +\n",
              "          '<a target=\"_blank\" href=https://colab.research.google.com/notebooks/data_table.ipynb>data table notebook</a>'\n",
              "          + ' to learn more about interactive tables.';\n",
              "        element.innerHTML = '';\n",
              "        dataTable['output_type'] = 'display_data';\n",
              "        await google.colab.output.renderOutput(dataTable, element);\n",
              "        const docLink = document.createElement('div');\n",
              "        docLink.innerHTML = docLinkHtml;\n",
              "        element.appendChild(docLink);\n",
              "      }\n",
              "    </script>\n",
              "  </div>\n",
              "\n",
              "\n",
              "<div id=\"df-2a556c4b-85cd-49d6-b8d1-8b197c287370\">\n",
              "  <button class=\"colab-df-quickchart\" onclick=\"quickchart('df-2a556c4b-85cd-49d6-b8d1-8b197c287370')\"\n",
              "            title=\"Suggest charts\"\n",
              "            style=\"display:none;\">\n",
              "\n",
              "<svg xmlns=\"http://www.w3.org/2000/svg\" height=\"24px\"viewBox=\"0 0 24 24\"\n",
              "     width=\"24px\">\n",
              "    <g>\n",
              "        <path d=\"M19 3H5c-1.1 0-2 .9-2 2v14c0 1.1.9 2 2 2h14c1.1 0 2-.9 2-2V5c0-1.1-.9-2-2-2zM9 17H7v-7h2v7zm4 0h-2V7h2v10zm4 0h-2v-4h2v4z\"/>\n",
              "    </g>\n",
              "</svg>\n",
              "  </button>\n",
              "\n",
              "<style>\n",
              "  .colab-df-quickchart {\n",
              "      --bg-color: #E8F0FE;\n",
              "      --fill-color: #1967D2;\n",
              "      --hover-bg-color: #E2EBFA;\n",
              "      --hover-fill-color: #174EA6;\n",
              "      --disabled-fill-color: #AAA;\n",
              "      --disabled-bg-color: #DDD;\n",
              "  }\n",
              "\n",
              "  [theme=dark] .colab-df-quickchart {\n",
              "      --bg-color: #3B4455;\n",
              "      --fill-color: #D2E3FC;\n",
              "      --hover-bg-color: #434B5C;\n",
              "      --hover-fill-color: #FFFFFF;\n",
              "      --disabled-bg-color: #3B4455;\n",
              "      --disabled-fill-color: #666;\n",
              "  }\n",
              "\n",
              "  .colab-df-quickchart {\n",
              "    background-color: var(--bg-color);\n",
              "    border: none;\n",
              "    border-radius: 50%;\n",
              "    cursor: pointer;\n",
              "    display: none;\n",
              "    fill: var(--fill-color);\n",
              "    height: 32px;\n",
              "    padding: 0;\n",
              "    width: 32px;\n",
              "  }\n",
              "\n",
              "  .colab-df-quickchart:hover {\n",
              "    background-color: var(--hover-bg-color);\n",
              "    box-shadow: 0 1px 2px rgba(60, 64, 67, 0.3), 0 1px 3px 1px rgba(60, 64, 67, 0.15);\n",
              "    fill: var(--button-hover-fill-color);\n",
              "  }\n",
              "\n",
              "  .colab-df-quickchart-complete:disabled,\n",
              "  .colab-df-quickchart-complete:disabled:hover {\n",
              "    background-color: var(--disabled-bg-color);\n",
              "    fill: var(--disabled-fill-color);\n",
              "    box-shadow: none;\n",
              "  }\n",
              "\n",
              "  .colab-df-spinner {\n",
              "    border: 2px solid var(--fill-color);\n",
              "    border-color: transparent;\n",
              "    border-bottom-color: var(--fill-color);\n",
              "    animation:\n",
              "      spin 1s steps(1) infinite;\n",
              "  }\n",
              "\n",
              "  @keyframes spin {\n",
              "    0% {\n",
              "      border-color: transparent;\n",
              "      border-bottom-color: var(--fill-color);\n",
              "      border-left-color: var(--fill-color);\n",
              "    }\n",
              "    20% {\n",
              "      border-color: transparent;\n",
              "      border-left-color: var(--fill-color);\n",
              "      border-top-color: var(--fill-color);\n",
              "    }\n",
              "    30% {\n",
              "      border-color: transparent;\n",
              "      border-left-color: var(--fill-color);\n",
              "      border-top-color: var(--fill-color);\n",
              "      border-right-color: var(--fill-color);\n",
              "    }\n",
              "    40% {\n",
              "      border-color: transparent;\n",
              "      border-right-color: var(--fill-color);\n",
              "      border-top-color: var(--fill-color);\n",
              "    }\n",
              "    60% {\n",
              "      border-color: transparent;\n",
              "      border-right-color: var(--fill-color);\n",
              "    }\n",
              "    80% {\n",
              "      border-color: transparent;\n",
              "      border-right-color: var(--fill-color);\n",
              "      border-bottom-color: var(--fill-color);\n",
              "    }\n",
              "    90% {\n",
              "      border-color: transparent;\n",
              "      border-bottom-color: var(--fill-color);\n",
              "    }\n",
              "  }\n",
              "</style>\n",
              "\n",
              "  <script>\n",
              "    async function quickchart(key) {\n",
              "      const quickchartButtonEl =\n",
              "        document.querySelector('#' + key + ' button');\n",
              "      quickchartButtonEl.disabled = true;  // To prevent multiple clicks.\n",
              "      quickchartButtonEl.classList.add('colab-df-spinner');\n",
              "      try {\n",
              "        const charts = await google.colab.kernel.invokeFunction(\n",
              "            'suggestCharts', [key], {});\n",
              "      } catch (error) {\n",
              "        console.error('Error during call to suggestCharts:', error);\n",
              "      }\n",
              "      quickchartButtonEl.classList.remove('colab-df-spinner');\n",
              "      quickchartButtonEl.classList.add('colab-df-quickchart-complete');\n",
              "    }\n",
              "    (() => {\n",
              "      let quickchartButtonEl =\n",
              "        document.querySelector('#df-2a556c4b-85cd-49d6-b8d1-8b197c287370 button');\n",
              "      quickchartButtonEl.style.display =\n",
              "        google.colab.kernel.accessAllowed ? 'block' : 'none';\n",
              "    })();\n",
              "  </script>\n",
              "</div>\n",
              "\n",
              "    </div>\n",
              "  </div>\n"
            ],
            "application/vnd.google.colaboratory.intrinsic+json": {
              "type": "dataframe",
              "summary": "{\n  \"name\": \"outliers_A\",\n  \"rows\": 53,\n  \"fields\": [\n    {\n      \"column\": \"level_0\",\n      \"properties\": {\n        \"dtype\": \"number\",\n        \"std\": 126,\n        \"min\": 6,\n        \"max\": 420,\n        \"num_unique_values\": 53,\n        \"samples\": [\n          123,\n          318,\n          395\n        ],\n        \"semantic_type\": \"\",\n        \"description\": \"\"\n      }\n    },\n    {\n      \"column\": \"index\",\n      \"properties\": {\n        \"dtype\": \"number\",\n        \"std\": 287,\n        \"min\": 94,\n        \"max\": 1037,\n        \"num_unique_values\": 53,\n        \"samples\": [\n          349,\n          806,\n          976\n        ],\n        \"semantic_type\": \"\",\n        \"description\": \"\"\n      }\n    },\n    {\n      \"column\": \"user_id\",\n      \"properties\": {\n        \"dtype\": \"number\",\n        \"std\": 22453,\n        \"min\": 9128525,\n        \"max\": 9211148,\n        \"num_unique_values\": 32,\n        \"samples\": [\n          9201923,\n          9164532,\n          9195066\n        ],\n        \"semantic_type\": \"\",\n        \"description\": \"\"\n      }\n    },\n    {\n      \"column\": \"added_time\",\n      \"properties\": {\n        \"dtype\": \"date\",\n        \"min\": \"2024-05-15 01:58:36.718133+00:00\",\n        \"max\": \"2024-05-29 09:54:11.147067+00:00\",\n        \"num_unique_values\": 53,\n        \"samples\": [\n          \"2024-05-17 17:26:11.750527+00:00\",\n          \"2024-05-24 08:17:11.085587+00:00\",\n          \"2024-05-26 07:12:43.758449+00:00\"\n        ],\n        \"semantic_type\": \"\",\n        \"description\": \"\"\n      }\n    },\n    {\n      \"column\": \"price\",\n      \"properties\": {\n        \"dtype\": \"number\",\n        \"std\": 0.13810042775146802,\n        \"min\": 0.13304377284331712,\n        \"max\": 1.0,\n        \"num_unique_values\": 6,\n        \"samples\": [\n          0.13304377284331712,\n          0.17972603122867697,\n          1.0\n        ],\n        \"semantic_type\": \"\",\n        \"description\": \"\"\n      }\n    },\n    {\n      \"column\": \"currency_iso\",\n      \"properties\": {\n        \"dtype\": \"category\",\n        \"num_unique_values\": 1,\n        \"samples\": [\n          \"IRR\"\n        ],\n        \"semantic_type\": \"\",\n        \"description\": \"\"\n      }\n    },\n    {\n      \"column\": \"group_name\",\n      \"properties\": {\n        \"dtype\": \"category\",\n        \"num_unique_values\": 1,\n        \"samples\": [\n          \"GroupA\"\n        ],\n        \"semantic_type\": \"\",\n        \"description\": \"\"\n      }\n    },\n    {\n      \"column\": \"day\",\n      \"properties\": {\n        \"dtype\": \"int32\",\n        \"num_unique_values\": 14,\n        \"samples\": [\n          19\n        ],\n        \"semantic_type\": \"\",\n        \"description\": \"\"\n      }\n    }\n  ]\n}"
            }
          },
          "metadata": {},
          "execution_count": 59
        }
      ]
    },
    {
      "cell_type": "code",
      "source": [
        "(len(outliers_A) / len(groupA))*100"
      ],
      "metadata": {
        "colab": {
          "base_uri": "https://localhost:8080/"
        },
        "id": "ag6mbJqMvJty",
        "outputId": "189f0f7c-71ad-46de-aa5c-1a28f99f15ea"
      },
      "execution_count": 60,
      "outputs": [
        {
          "output_type": "execute_result",
          "data": {
            "text/plain": [
              "11.471861471861471"
            ]
          },
          "metadata": {},
          "execution_count": 60
        }
      ]
    },
    {
      "cell_type": "code",
      "source": [
        "# calculate IQR for column Height\n",
        "Q1 = groupB['price'].quantile(0.25)\n",
        "Q3 = groupB['price'].quantile(0.75)\n",
        "IQR = Q3 - Q1\n",
        "\n",
        "# identify outliers\n",
        "threshold = 1.5\n",
        "outliers_B=groupB[(groupB['price'] < Q1 - threshold * IQR) | (groupB['price'] > Q3 + threshold * IQR)]"
      ],
      "metadata": {
        "id": "bsOpXeh8gGQW"
      },
      "execution_count": 61,
      "outputs": []
    },
    {
      "cell_type": "code",
      "source": [
        "outliers_B.reset_index()"
      ],
      "metadata": {
        "colab": {
          "base_uri": "https://localhost:8080/",
          "height": 423
        },
        "id": "9D97R_g8gd0l",
        "outputId": "20ed5e2e-e2cc-4d40-c6d3-ebee4b88e363"
      },
      "execution_count": 62,
      "outputs": [
        {
          "output_type": "execute_result",
          "data": {
            "text/plain": [
              "    level_0  index  user_id                       added_time     price  \\\n",
              "0         0      1  9130127 2024-05-16 08:48:28.419542+00:00  0.130871   \n",
              "1        27     30  9132598 2024-05-18 19:31:11.547508+00:00  0.177670   \n",
              "2        34     37  9132598 2024-05-21 22:38:33.815016+00:00  0.177670   \n",
              "3        46     49  9149918 2024-05-19 07:26:22.363937+00:00  0.164299   \n",
              "4        47     50  9149918 2024-05-22 17:30:22.558943+00:00  0.832860   \n",
              "..      ...    ...      ...                              ...       ...   \n",
              "59      622   1064  9171240 2024-05-28 06:25:10.760102+00:00  0.130871   \n",
              "60      623   1066  9204142 2024-05-28 08:28:26.521807+00:00  0.130871   \n",
              "61      633   1091  9202096 2024-05-29 11:34:02.824731+00:00  0.130871   \n",
              "62      638   1096  9201144 2024-05-29 19:08:28.940563+00:00  0.130871   \n",
              "63      642   1104  9200495 2024-05-29 20:55:52.290650+00:00  0.130871   \n",
              "\n",
              "   currency_iso group_name  day  \n",
              "0           IRR     GroupB   16  \n",
              "1           IRR     GroupB   18  \n",
              "2           IRR     GroupB   21  \n",
              "3           IRR     GroupB   19  \n",
              "4           IRR     GroupB   22  \n",
              "..          ...        ...  ...  \n",
              "59          IRR     GroupB   28  \n",
              "60          IRR     GroupB   28  \n",
              "61          IRR     GroupB   29  \n",
              "62          IRR     GroupB   29  \n",
              "63          IRR     GroupB   29  \n",
              "\n",
              "[64 rows x 8 columns]"
            ],
            "text/html": [
              "\n",
              "  <div id=\"df-3d99daa0-6e54-49bd-bd26-7ac0ac9e0212\" class=\"colab-df-container\">\n",
              "    <div>\n",
              "<style scoped>\n",
              "    .dataframe tbody tr th:only-of-type {\n",
              "        vertical-align: middle;\n",
              "    }\n",
              "\n",
              "    .dataframe tbody tr th {\n",
              "        vertical-align: top;\n",
              "    }\n",
              "\n",
              "    .dataframe thead th {\n",
              "        text-align: right;\n",
              "    }\n",
              "</style>\n",
              "<table border=\"1\" class=\"dataframe\">\n",
              "  <thead>\n",
              "    <tr style=\"text-align: right;\">\n",
              "      <th></th>\n",
              "      <th>level_0</th>\n",
              "      <th>index</th>\n",
              "      <th>user_id</th>\n",
              "      <th>added_time</th>\n",
              "      <th>price</th>\n",
              "      <th>currency_iso</th>\n",
              "      <th>group_name</th>\n",
              "      <th>day</th>\n",
              "    </tr>\n",
              "  </thead>\n",
              "  <tbody>\n",
              "    <tr>\n",
              "      <th>0</th>\n",
              "      <td>0</td>\n",
              "      <td>1</td>\n",
              "      <td>9130127</td>\n",
              "      <td>2024-05-16 08:48:28.419542+00:00</td>\n",
              "      <td>0.130871</td>\n",
              "      <td>IRR</td>\n",
              "      <td>GroupB</td>\n",
              "      <td>16</td>\n",
              "    </tr>\n",
              "    <tr>\n",
              "      <th>1</th>\n",
              "      <td>27</td>\n",
              "      <td>30</td>\n",
              "      <td>9132598</td>\n",
              "      <td>2024-05-18 19:31:11.547508+00:00</td>\n",
              "      <td>0.177670</td>\n",
              "      <td>IRR</td>\n",
              "      <td>GroupB</td>\n",
              "      <td>18</td>\n",
              "    </tr>\n",
              "    <tr>\n",
              "      <th>2</th>\n",
              "      <td>34</td>\n",
              "      <td>37</td>\n",
              "      <td>9132598</td>\n",
              "      <td>2024-05-21 22:38:33.815016+00:00</td>\n",
              "      <td>0.177670</td>\n",
              "      <td>IRR</td>\n",
              "      <td>GroupB</td>\n",
              "      <td>21</td>\n",
              "    </tr>\n",
              "    <tr>\n",
              "      <th>3</th>\n",
              "      <td>46</td>\n",
              "      <td>49</td>\n",
              "      <td>9149918</td>\n",
              "      <td>2024-05-19 07:26:22.363937+00:00</td>\n",
              "      <td>0.164299</td>\n",
              "      <td>IRR</td>\n",
              "      <td>GroupB</td>\n",
              "      <td>19</td>\n",
              "    </tr>\n",
              "    <tr>\n",
              "      <th>4</th>\n",
              "      <td>47</td>\n",
              "      <td>50</td>\n",
              "      <td>9149918</td>\n",
              "      <td>2024-05-22 17:30:22.558943+00:00</td>\n",
              "      <td>0.832860</td>\n",
              "      <td>IRR</td>\n",
              "      <td>GroupB</td>\n",
              "      <td>22</td>\n",
              "    </tr>\n",
              "    <tr>\n",
              "      <th>...</th>\n",
              "      <td>...</td>\n",
              "      <td>...</td>\n",
              "      <td>...</td>\n",
              "      <td>...</td>\n",
              "      <td>...</td>\n",
              "      <td>...</td>\n",
              "      <td>...</td>\n",
              "      <td>...</td>\n",
              "    </tr>\n",
              "    <tr>\n",
              "      <th>59</th>\n",
              "      <td>622</td>\n",
              "      <td>1064</td>\n",
              "      <td>9171240</td>\n",
              "      <td>2024-05-28 06:25:10.760102+00:00</td>\n",
              "      <td>0.130871</td>\n",
              "      <td>IRR</td>\n",
              "      <td>GroupB</td>\n",
              "      <td>28</td>\n",
              "    </tr>\n",
              "    <tr>\n",
              "      <th>60</th>\n",
              "      <td>623</td>\n",
              "      <td>1066</td>\n",
              "      <td>9204142</td>\n",
              "      <td>2024-05-28 08:28:26.521807+00:00</td>\n",
              "      <td>0.130871</td>\n",
              "      <td>IRR</td>\n",
              "      <td>GroupB</td>\n",
              "      <td>28</td>\n",
              "    </tr>\n",
              "    <tr>\n",
              "      <th>61</th>\n",
              "      <td>633</td>\n",
              "      <td>1091</td>\n",
              "      <td>9202096</td>\n",
              "      <td>2024-05-29 11:34:02.824731+00:00</td>\n",
              "      <td>0.130871</td>\n",
              "      <td>IRR</td>\n",
              "      <td>GroupB</td>\n",
              "      <td>29</td>\n",
              "    </tr>\n",
              "    <tr>\n",
              "      <th>62</th>\n",
              "      <td>638</td>\n",
              "      <td>1096</td>\n",
              "      <td>9201144</td>\n",
              "      <td>2024-05-29 19:08:28.940563+00:00</td>\n",
              "      <td>0.130871</td>\n",
              "      <td>IRR</td>\n",
              "      <td>GroupB</td>\n",
              "      <td>29</td>\n",
              "    </tr>\n",
              "    <tr>\n",
              "      <th>63</th>\n",
              "      <td>642</td>\n",
              "      <td>1104</td>\n",
              "      <td>9200495</td>\n",
              "      <td>2024-05-29 20:55:52.290650+00:00</td>\n",
              "      <td>0.130871</td>\n",
              "      <td>IRR</td>\n",
              "      <td>GroupB</td>\n",
              "      <td>29</td>\n",
              "    </tr>\n",
              "  </tbody>\n",
              "</table>\n",
              "<p>64 rows × 8 columns</p>\n",
              "</div>\n",
              "    <div class=\"colab-df-buttons\">\n",
              "\n",
              "  <div class=\"colab-df-container\">\n",
              "    <button class=\"colab-df-convert\" onclick=\"convertToInteractive('df-3d99daa0-6e54-49bd-bd26-7ac0ac9e0212')\"\n",
              "            title=\"Convert this dataframe to an interactive table.\"\n",
              "            style=\"display:none;\">\n",
              "\n",
              "  <svg xmlns=\"http://www.w3.org/2000/svg\" height=\"24px\" viewBox=\"0 -960 960 960\">\n",
              "    <path d=\"M120-120v-720h720v720H120Zm60-500h600v-160H180v160Zm220 220h160v-160H400v160Zm0 220h160v-160H400v160ZM180-400h160v-160H180v160Zm440 0h160v-160H620v160ZM180-180h160v-160H180v160Zm440 0h160v-160H620v160Z\"/>\n",
              "  </svg>\n",
              "    </button>\n",
              "\n",
              "  <style>\n",
              "    .colab-df-container {\n",
              "      display:flex;\n",
              "      gap: 12px;\n",
              "    }\n",
              "\n",
              "    .colab-df-convert {\n",
              "      background-color: #E8F0FE;\n",
              "      border: none;\n",
              "      border-radius: 50%;\n",
              "      cursor: pointer;\n",
              "      display: none;\n",
              "      fill: #1967D2;\n",
              "      height: 32px;\n",
              "      padding: 0 0 0 0;\n",
              "      width: 32px;\n",
              "    }\n",
              "\n",
              "    .colab-df-convert:hover {\n",
              "      background-color: #E2EBFA;\n",
              "      box-shadow: 0px 1px 2px rgba(60, 64, 67, 0.3), 0px 1px 3px 1px rgba(60, 64, 67, 0.15);\n",
              "      fill: #174EA6;\n",
              "    }\n",
              "\n",
              "    .colab-df-buttons div {\n",
              "      margin-bottom: 4px;\n",
              "    }\n",
              "\n",
              "    [theme=dark] .colab-df-convert {\n",
              "      background-color: #3B4455;\n",
              "      fill: #D2E3FC;\n",
              "    }\n",
              "\n",
              "    [theme=dark] .colab-df-convert:hover {\n",
              "      background-color: #434B5C;\n",
              "      box-shadow: 0px 1px 3px 1px rgba(0, 0, 0, 0.15);\n",
              "      filter: drop-shadow(0px 1px 2px rgba(0, 0, 0, 0.3));\n",
              "      fill: #FFFFFF;\n",
              "    }\n",
              "  </style>\n",
              "\n",
              "    <script>\n",
              "      const buttonEl =\n",
              "        document.querySelector('#df-3d99daa0-6e54-49bd-bd26-7ac0ac9e0212 button.colab-df-convert');\n",
              "      buttonEl.style.display =\n",
              "        google.colab.kernel.accessAllowed ? 'block' : 'none';\n",
              "\n",
              "      async function convertToInteractive(key) {\n",
              "        const element = document.querySelector('#df-3d99daa0-6e54-49bd-bd26-7ac0ac9e0212');\n",
              "        const dataTable =\n",
              "          await google.colab.kernel.invokeFunction('convertToInteractive',\n",
              "                                                    [key], {});\n",
              "        if (!dataTable) return;\n",
              "\n",
              "        const docLinkHtml = 'Like what you see? Visit the ' +\n",
              "          '<a target=\"_blank\" href=https://colab.research.google.com/notebooks/data_table.ipynb>data table notebook</a>'\n",
              "          + ' to learn more about interactive tables.';\n",
              "        element.innerHTML = '';\n",
              "        dataTable['output_type'] = 'display_data';\n",
              "        await google.colab.output.renderOutput(dataTable, element);\n",
              "        const docLink = document.createElement('div');\n",
              "        docLink.innerHTML = docLinkHtml;\n",
              "        element.appendChild(docLink);\n",
              "      }\n",
              "    </script>\n",
              "  </div>\n",
              "\n",
              "\n",
              "<div id=\"df-f89f05f3-0481-49ec-931d-af968072f30b\">\n",
              "  <button class=\"colab-df-quickchart\" onclick=\"quickchart('df-f89f05f3-0481-49ec-931d-af968072f30b')\"\n",
              "            title=\"Suggest charts\"\n",
              "            style=\"display:none;\">\n",
              "\n",
              "<svg xmlns=\"http://www.w3.org/2000/svg\" height=\"24px\"viewBox=\"0 0 24 24\"\n",
              "     width=\"24px\">\n",
              "    <g>\n",
              "        <path d=\"M19 3H5c-1.1 0-2 .9-2 2v14c0 1.1.9 2 2 2h14c1.1 0 2-.9 2-2V5c0-1.1-.9-2-2-2zM9 17H7v-7h2v7zm4 0h-2V7h2v10zm4 0h-2v-4h2v4z\"/>\n",
              "    </g>\n",
              "</svg>\n",
              "  </button>\n",
              "\n",
              "<style>\n",
              "  .colab-df-quickchart {\n",
              "      --bg-color: #E8F0FE;\n",
              "      --fill-color: #1967D2;\n",
              "      --hover-bg-color: #E2EBFA;\n",
              "      --hover-fill-color: #174EA6;\n",
              "      --disabled-fill-color: #AAA;\n",
              "      --disabled-bg-color: #DDD;\n",
              "  }\n",
              "\n",
              "  [theme=dark] .colab-df-quickchart {\n",
              "      --bg-color: #3B4455;\n",
              "      --fill-color: #D2E3FC;\n",
              "      --hover-bg-color: #434B5C;\n",
              "      --hover-fill-color: #FFFFFF;\n",
              "      --disabled-bg-color: #3B4455;\n",
              "      --disabled-fill-color: #666;\n",
              "  }\n",
              "\n",
              "  .colab-df-quickchart {\n",
              "    background-color: var(--bg-color);\n",
              "    border: none;\n",
              "    border-radius: 50%;\n",
              "    cursor: pointer;\n",
              "    display: none;\n",
              "    fill: var(--fill-color);\n",
              "    height: 32px;\n",
              "    padding: 0;\n",
              "    width: 32px;\n",
              "  }\n",
              "\n",
              "  .colab-df-quickchart:hover {\n",
              "    background-color: var(--hover-bg-color);\n",
              "    box-shadow: 0 1px 2px rgba(60, 64, 67, 0.3), 0 1px 3px 1px rgba(60, 64, 67, 0.15);\n",
              "    fill: var(--button-hover-fill-color);\n",
              "  }\n",
              "\n",
              "  .colab-df-quickchart-complete:disabled,\n",
              "  .colab-df-quickchart-complete:disabled:hover {\n",
              "    background-color: var(--disabled-bg-color);\n",
              "    fill: var(--disabled-fill-color);\n",
              "    box-shadow: none;\n",
              "  }\n",
              "\n",
              "  .colab-df-spinner {\n",
              "    border: 2px solid var(--fill-color);\n",
              "    border-color: transparent;\n",
              "    border-bottom-color: var(--fill-color);\n",
              "    animation:\n",
              "      spin 1s steps(1) infinite;\n",
              "  }\n",
              "\n",
              "  @keyframes spin {\n",
              "    0% {\n",
              "      border-color: transparent;\n",
              "      border-bottom-color: var(--fill-color);\n",
              "      border-left-color: var(--fill-color);\n",
              "    }\n",
              "    20% {\n",
              "      border-color: transparent;\n",
              "      border-left-color: var(--fill-color);\n",
              "      border-top-color: var(--fill-color);\n",
              "    }\n",
              "    30% {\n",
              "      border-color: transparent;\n",
              "      border-left-color: var(--fill-color);\n",
              "      border-top-color: var(--fill-color);\n",
              "      border-right-color: var(--fill-color);\n",
              "    }\n",
              "    40% {\n",
              "      border-color: transparent;\n",
              "      border-right-color: var(--fill-color);\n",
              "      border-top-color: var(--fill-color);\n",
              "    }\n",
              "    60% {\n",
              "      border-color: transparent;\n",
              "      border-right-color: var(--fill-color);\n",
              "    }\n",
              "    80% {\n",
              "      border-color: transparent;\n",
              "      border-right-color: var(--fill-color);\n",
              "      border-bottom-color: var(--fill-color);\n",
              "    }\n",
              "    90% {\n",
              "      border-color: transparent;\n",
              "      border-bottom-color: var(--fill-color);\n",
              "    }\n",
              "  }\n",
              "</style>\n",
              "\n",
              "  <script>\n",
              "    async function quickchart(key) {\n",
              "      const quickchartButtonEl =\n",
              "        document.querySelector('#' + key + ' button');\n",
              "      quickchartButtonEl.disabled = true;  // To prevent multiple clicks.\n",
              "      quickchartButtonEl.classList.add('colab-df-spinner');\n",
              "      try {\n",
              "        const charts = await google.colab.kernel.invokeFunction(\n",
              "            'suggestCharts', [key], {});\n",
              "      } catch (error) {\n",
              "        console.error('Error during call to suggestCharts:', error);\n",
              "      }\n",
              "      quickchartButtonEl.classList.remove('colab-df-spinner');\n",
              "      quickchartButtonEl.classList.add('colab-df-quickchart-complete');\n",
              "    }\n",
              "    (() => {\n",
              "      let quickchartButtonEl =\n",
              "        document.querySelector('#df-f89f05f3-0481-49ec-931d-af968072f30b button');\n",
              "      quickchartButtonEl.style.display =\n",
              "        google.colab.kernel.accessAllowed ? 'block' : 'none';\n",
              "    })();\n",
              "  </script>\n",
              "</div>\n",
              "\n",
              "    </div>\n",
              "  </div>\n"
            ],
            "application/vnd.google.colaboratory.intrinsic+json": {
              "type": "dataframe",
              "summary": "{\n  \"name\": \"outliers_B\",\n  \"rows\": 64,\n  \"fields\": [\n    {\n      \"column\": \"level_0\",\n      \"properties\": {\n        \"dtype\": \"number\",\n        \"std\": 208,\n        \"min\": 0,\n        \"max\": 642,\n        \"num_unique_values\": 64,\n        \"samples\": [\n          551,\n          614,\n          0\n        ],\n        \"semantic_type\": \"\",\n        \"description\": \"\"\n      }\n    },\n    {\n      \"column\": \"index\",\n      \"properties\": {\n        \"dtype\": \"number\",\n        \"std\": 371,\n        \"min\": 1,\n        \"max\": 1104,\n        \"num_unique_values\": 64,\n        \"samples\": [\n          904,\n          1034,\n          1\n        ],\n        \"semantic_type\": \"\",\n        \"description\": \"\"\n      }\n    },\n    {\n      \"column\": \"user_id\",\n      \"properties\": {\n        \"dtype\": \"number\",\n        \"std\": 22328,\n        \"min\": 9130127,\n        \"max\": 9209148,\n        \"num_unique_values\": 47,\n        \"samples\": [\n          9142977,\n          9136012,\n          9154131\n        ],\n        \"semantic_type\": \"\",\n        \"description\": \"\"\n      }\n    },\n    {\n      \"column\": \"added_time\",\n      \"properties\": {\n        \"dtype\": \"date\",\n        \"min\": \"2024-05-16 07:41:45.590377+00:00\",\n        \"max\": \"2024-05-29 20:55:52.290650+00:00\",\n        \"num_unique_values\": 64,\n        \"samples\": [\n          \"2024-05-26 12:28:18.995895+00:00\",\n          \"2024-05-27 12:40:03.864261+00:00\",\n          \"2024-05-16 08:48:28.419542+00:00\"\n        ],\n        \"semantic_type\": \"\",\n        \"description\": \"\"\n      }\n    },\n    {\n      \"column\": \"price\",\n      \"properties\": {\n        \"dtype\": \"number\",\n        \"std\": 0.24714672570163237,\n        \"min\": 0.13087080060170486,\n        \"max\": 1.0,\n        \"num_unique_values\": 9,\n        \"samples\": [\n          0.46515126190874145,\n          0.17767006518468997,\n          1.0\n        ],\n        \"semantic_type\": \"\",\n        \"description\": \"\"\n      }\n    },\n    {\n      \"column\": \"currency_iso\",\n      \"properties\": {\n        \"dtype\": \"category\",\n        \"num_unique_values\": 1,\n        \"samples\": [\n          \"IRR\"\n        ],\n        \"semantic_type\": \"\",\n        \"description\": \"\"\n      }\n    },\n    {\n      \"column\": \"group_name\",\n      \"properties\": {\n        \"dtype\": \"category\",\n        \"num_unique_values\": 1,\n        \"samples\": [\n          \"GroupB\"\n        ],\n        \"semantic_type\": \"\",\n        \"description\": \"\"\n      }\n    },\n    {\n      \"column\": \"day\",\n      \"properties\": {\n        \"dtype\": \"int32\",\n        \"num_unique_values\": 14,\n        \"samples\": [\n          24\n        ],\n        \"semantic_type\": \"\",\n        \"description\": \"\"\n      }\n    }\n  ]\n}"
            }
          },
          "metadata": {},
          "execution_count": 62
        }
      ]
    }
  ]
}